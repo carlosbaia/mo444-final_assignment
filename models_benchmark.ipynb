{
 "cells": [
  {
   "cell_type": "code",
   "execution_count": 1,
   "metadata": {},
   "outputs": [],
   "source": [
    "import numpy as np\n",
    "import pandas as pd\n",
    "from datetime import datetime\n",
    "from pandas.api.types import is_numeric_dtype\n",
    "from sklearn.metrics import roc_auc_score\n",
    "\n",
    "import matplotlib.pyplot as plt\n",
    "import seaborn as sns"
   ]
  },
  {
   "cell_type": "markdown",
   "metadata": {},
   "source": [
    "# Train"
   ]
  },
  {
   "cell_type": "code",
   "execution_count": 2,
   "metadata": {},
   "outputs": [],
   "source": [
    "df_trade_final = pd.read_pickle('df_trade_final.pkl')"
   ]
  },
  {
   "cell_type": "code",
   "execution_count": null,
   "metadata": {},
   "outputs": [],
   "source": [
    "features = df_trade_final.columns.drop(['CustomerIdx', 'IsinIdx', 'CustomerInterest',\n",
    "                                        'ActualMaturityDateKey', 'IssueDateKey',\n",
    "                                        'week_start',\n",
    "                                        'next_week_start'])"
   ]
  },
  {
   "cell_type": "code",
   "execution_count": 5,
   "metadata": {},
   "outputs": [
    {
     "data": {
      "text/html": [
       "<div>\n",
       "<style scoped>\n",
       "    .dataframe tbody tr th:only-of-type {\n",
       "        vertical-align: middle;\n",
       "    }\n",
       "\n",
       "    .dataframe tbody tr th {\n",
       "        vertical-align: top;\n",
       "    }\n",
       "\n",
       "    .dataframe thead th {\n",
       "        text-align: right;\n",
       "    }\n",
       "</style>\n",
       "<table border=\"1\" class=\"dataframe\">\n",
       "  <thead>\n",
       "    <tr style=\"text-align: right;\">\n",
       "      <th></th>\n",
       "      <th>week_start</th>\n",
       "      <th>CustomerIdx</th>\n",
       "      <th>IsinIdx</th>\n",
       "      <th>BuySell</th>\n",
       "      <th>CustomerInterest</th>\n",
       "      <th>Sector</th>\n",
       "      <th>Subsector</th>\n",
       "      <th>Region_x</th>\n",
       "      <th>Country</th>\n",
       "      <th>TickerIdx</th>\n",
       "      <th>...</th>\n",
       "      <th>TradeStatus_NotTraded.sum_ByIsin</th>\n",
       "      <th>TradeStatus_Unknown.sum_ByIsin</th>\n",
       "      <th>ExecutedBuy.sum_ByIsin</th>\n",
       "      <th>ExecutedSell.sum_ByIsin</th>\n",
       "      <th>ExecutedBalance.sum_ByIsin</th>\n",
       "      <th>CustomerIdx.count</th>\n",
       "      <th>CustomerIdx.nunique</th>\n",
       "      <th>all_period</th>\n",
       "      <th>past_period</th>\n",
       "      <th>remaining_period</th>\n",
       "    </tr>\n",
       "  </thead>\n",
       "  <tbody>\n",
       "    <tr>\n",
       "      <th>0</th>\n",
       "      <td>2018-01-01</td>\n",
       "      <td>2</td>\n",
       "      <td>17040</td>\n",
       "      <td>0</td>\n",
       "      <td>1.0</td>\n",
       "      <td>0</td>\n",
       "      <td>21</td>\n",
       "      <td>0</td>\n",
       "      <td>10</td>\n",
       "      <td>238</td>\n",
       "      <td>...</td>\n",
       "      <td>62.0</td>\n",
       "      <td>301.0</td>\n",
       "      <td>272.0</td>\n",
       "      <td>128.0</td>\n",
       "      <td>144.0</td>\n",
       "      <td>696.0</td>\n",
       "      <td>548.0</td>\n",
       "      <td>36524</td>\n",
       "      <td>187</td>\n",
       "      <td>36337</td>\n",
       "    </tr>\n",
       "    <tr>\n",
       "      <th>1</th>\n",
       "      <td>2018-01-01</td>\n",
       "      <td>2</td>\n",
       "      <td>17040</td>\n",
       "      <td>1</td>\n",
       "      <td>0.0</td>\n",
       "      <td>0</td>\n",
       "      <td>21</td>\n",
       "      <td>0</td>\n",
       "      <td>10</td>\n",
       "      <td>238</td>\n",
       "      <td>...</td>\n",
       "      <td>62.0</td>\n",
       "      <td>301.0</td>\n",
       "      <td>272.0</td>\n",
       "      <td>128.0</td>\n",
       "      <td>144.0</td>\n",
       "      <td>696.0</td>\n",
       "      <td>548.0</td>\n",
       "      <td>36524</td>\n",
       "      <td>187</td>\n",
       "      <td>36337</td>\n",
       "    </tr>\n",
       "    <tr>\n",
       "      <th>2</th>\n",
       "      <td>2018-01-01</td>\n",
       "      <td>9</td>\n",
       "      <td>3428</td>\n",
       "      <td>0</td>\n",
       "      <td>1.0</td>\n",
       "      <td>1</td>\n",
       "      <td>23</td>\n",
       "      <td>1</td>\n",
       "      <td>75</td>\n",
       "      <td>1116</td>\n",
       "      <td>...</td>\n",
       "      <td>44.0</td>\n",
       "      <td>25.0</td>\n",
       "      <td>83.0</td>\n",
       "      <td>116.0</td>\n",
       "      <td>-33.0</td>\n",
       "      <td>437.0</td>\n",
       "      <td>382.0</td>\n",
       "      <td>7305</td>\n",
       "      <td>445</td>\n",
       "      <td>6860</td>\n",
       "    </tr>\n",
       "    <tr>\n",
       "      <th>3</th>\n",
       "      <td>2018-01-01</td>\n",
       "      <td>9</td>\n",
       "      <td>3428</td>\n",
       "      <td>1</td>\n",
       "      <td>0.0</td>\n",
       "      <td>1</td>\n",
       "      <td>23</td>\n",
       "      <td>1</td>\n",
       "      <td>75</td>\n",
       "      <td>1116</td>\n",
       "      <td>...</td>\n",
       "      <td>44.0</td>\n",
       "      <td>25.0</td>\n",
       "      <td>83.0</td>\n",
       "      <td>116.0</td>\n",
       "      <td>-33.0</td>\n",
       "      <td>437.0</td>\n",
       "      <td>382.0</td>\n",
       "      <td>7305</td>\n",
       "      <td>445</td>\n",
       "      <td>6860</td>\n",
       "    </tr>\n",
       "    <tr>\n",
       "      <th>4</th>\n",
       "      <td>2018-01-01</td>\n",
       "      <td>9</td>\n",
       "      <td>5964</td>\n",
       "      <td>0</td>\n",
       "      <td>0.0</td>\n",
       "      <td>1</td>\n",
       "      <td>23</td>\n",
       "      <td>1</td>\n",
       "      <td>75</td>\n",
       "      <td>328</td>\n",
       "      <td>...</td>\n",
       "      <td>22.0</td>\n",
       "      <td>243.0</td>\n",
       "      <td>147.0</td>\n",
       "      <td>135.0</td>\n",
       "      <td>12.0</td>\n",
       "      <td>441.0</td>\n",
       "      <td>306.0</td>\n",
       "      <td>10958</td>\n",
       "      <td>868</td>\n",
       "      <td>10090</td>\n",
       "    </tr>\n",
       "  </tbody>\n",
       "</table>\n",
       "<p>5 rows × 95 columns</p>\n",
       "</div>"
      ],
      "text/plain": [
       "  week_start  CustomerIdx  IsinIdx  BuySell  CustomerInterest  Sector  \\\n",
       "0 2018-01-01            2    17040        0               1.0       0   \n",
       "1 2018-01-01            2    17040        1               0.0       0   \n",
       "2 2018-01-01            9     3428        0               1.0       1   \n",
       "3 2018-01-01            9     3428        1               0.0       1   \n",
       "4 2018-01-01            9     5964        0               0.0       1   \n",
       "\n",
       "   Subsector  Region_x  Country  TickerIdx        ...         \\\n",
       "0         21         0       10        238        ...          \n",
       "1         21         0       10        238        ...          \n",
       "2         23         1       75       1116        ...          \n",
       "3         23         1       75       1116        ...          \n",
       "4         23         1       75        328        ...          \n",
       "\n",
       "  TradeStatus_NotTraded.sum_ByIsin TradeStatus_Unknown.sum_ByIsin  \\\n",
       "0                             62.0                          301.0   \n",
       "1                             62.0                          301.0   \n",
       "2                             44.0                           25.0   \n",
       "3                             44.0                           25.0   \n",
       "4                             22.0                          243.0   \n",
       "\n",
       "   ExecutedBuy.sum_ByIsin  ExecutedSell.sum_ByIsin  \\\n",
       "0                   272.0                    128.0   \n",
       "1                   272.0                    128.0   \n",
       "2                    83.0                    116.0   \n",
       "3                    83.0                    116.0   \n",
       "4                   147.0                    135.0   \n",
       "\n",
       "   ExecutedBalance.sum_ByIsin  CustomerIdx.count  CustomerIdx.nunique  \\\n",
       "0                       144.0              696.0                548.0   \n",
       "1                       144.0              696.0                548.0   \n",
       "2                       -33.0              437.0                382.0   \n",
       "3                       -33.0              437.0                382.0   \n",
       "4                        12.0              441.0                306.0   \n",
       "\n",
       "   all_period  past_period  remaining_period  \n",
       "0       36524          187             36337  \n",
       "1       36524          187             36337  \n",
       "2        7305          445              6860  \n",
       "3        7305          445              6860  \n",
       "4       10958          868             10090  \n",
       "\n",
       "[5 rows x 95 columns]"
      ]
     },
     "execution_count": 5,
     "metadata": {},
     "output_type": "execute_result"
    }
   ],
   "source": [
    "df_trade_final.fillna(0, inplace=True)\n",
    "df_trade_final.head()"
   ]
  },
  {
   "cell_type": "code",
   "execution_count": 6,
   "metadata": {},
   "outputs": [
    {
     "data": {
      "text/plain": [
       "Timestamp('2018-04-16 00:00:00')"
      ]
     },
     "execution_count": 6,
     "metadata": {},
     "output_type": "execute_result"
    }
   ],
   "source": [
    "last_week = df_trade_final.week_start.max()\n",
    "last_week"
   ]
  },
  {
   "cell_type": "code",
   "execution_count": 15,
   "metadata": {},
   "outputs": [],
   "source": [
    "from sklearn.preprocessing import StandardScaler\n",
    "\n",
    "scaler = StandardScaler()\n",
    "df_trade_final[features] = scaler.fit_transform(df_trade_final[features])"
   ]
  },
  {
   "cell_type": "code",
   "execution_count": 16,
   "metadata": {},
   "outputs": [
    {
     "name": "stdout",
     "output_type": "stream",
     "text": [
      "Train: (986488, 66) (986488,)\n",
      "Val: (490695, 66) (490695,)\n"
     ]
    }
   ],
   "source": [
    "X = df_trade_final.loc[df_trade_final.week_start != last_week, features].values\n",
    "y = df_trade_final[df_trade_final.week_start != last_week].CustomerInterest.values\n",
    "\n",
    "X_val = df_trade_final.loc[df_trade_final.week_start == last_week, features].values\n",
    "y_val = df_trade_final[df_trade_final.week_start == last_week].CustomerInterest.values\n",
    "\n",
    "print('Train:', X.shape, y.shape)\n",
    "print('Val:', X_val.shape, y_val.shape)"
   ]
  },
  {
   "cell_type": "code",
   "execution_count": 31,
   "metadata": {},
   "outputs": [
    {
     "name": "stdout",
     "output_type": "stream",
     "text": [
      "0.55877297939202\n",
      "CPU times: user 40.8 s, sys: 2.88 s, total: 43.7 s\n",
      "Wall time: 13.3 s\n"
     ]
    }
   ],
   "source": [
    "%%time\n",
    "from sklearn.ensemble import RandomForestClassifier\n",
    "\n",
    "classifier = RandomForestClassifier(10, random_state=1986, n_jobs=-1)\n",
    "classifier.fit(X, y)\n",
    "\n",
    "y_pred = classifier.predict_proba(X_val)\n",
    "print(roc_auc_score(y_val, y_pred[:,1]))"
   ]
  },
  {
   "cell_type": "code",
   "execution_count": 19,
   "metadata": {},
   "outputs": [
    {
     "name": "stderr",
     "output_type": "stream",
     "text": [
      "/home/carlosbaia/anaconda3/lib/python3.6/site-packages/h5py/__init__.py:36: FutureWarning: Conversion of the second argument of issubdtype from `float` to `np.floating` is deprecated. In future, it will be treated as `np.float64 == np.dtype(float).type`.\n",
      "  from ._conv import register_converters as _register_converters\n"
     ]
    },
    {
     "name": "stdout",
     "output_type": "stream",
     "text": [
      "WARNING:tensorflow:From /home/carlosbaia/anaconda3/lib/python3.6/site-packages/tensorflow/contrib/learn/python/learn/datasets/base.py:198: retry (from tensorflow.contrib.learn.python.learn.datasets.base) is deprecated and will be removed in a future version.\n",
      "Instructions for updating:\n",
      "Use the retry module or similar alternatives.\n",
      "WARNING:tensorflow:From /home/carlosbaia/anaconda3/lib/python3.6/site-packages/tflearn/objectives.py:66: calling reduce_sum (from tensorflow.python.ops.math_ops) with keep_dims is deprecated and will be removed in a future version.\n",
      "Instructions for updating:\n",
      "keep_dims is deprecated, use keepdims instead\n"
     ]
    }
   ],
   "source": [
    "import tensorflow as tf\n",
    "import tflearn\n",
    "\n",
    "tf.reset_default_graph()\n",
    "\n",
    "targets = np.unique(y)\n",
    "y2 = (y.reshape((-1, 1)) == targets).astype(np.uint8)\n",
    "y_val2 = (y_val.reshape((-1, 1)) == targets).astype(np.uint8)\n",
    "\n",
    "input_layer = tflearn.input_data((None, len(features)))\n",
    "net = tflearn.fully_connected(input_layer, 256, activation='relu')\n",
    "net = tflearn.dropout(net, 0.8)\n",
    "net = tflearn.fully_connected(net, 256, activation='relu')\n",
    "net = tflearn.dropout(net, 0.8)\n",
    "net = tflearn.fully_connected(net, 128, activation='relu')\n",
    "net = tflearn.dropout(net, 0.8)\n",
    "net = tflearn.fully_connected(net, 64, activation='relu')\n",
    "net = tflearn.dropout(net, 0.8)\n",
    "net = tflearn.fully_connected(net, len(targets), activation='softmax')\n",
    "net = tflearn.regression(net, learning_rate=1e-5)\n",
    "model = tflearn.DNN(net, tensorboard_verbose=3, tensorboard_dir='tensorboard')"
   ]
  },
  {
   "cell_type": "code",
   "execution_count": 20,
   "metadata": {
    "scrolled": true
   },
   "outputs": [
    {
     "name": "stdout",
     "output_type": "stream",
     "text": [
      "Training Step: 1319  | total loss: \u001b[1m\u001b[32m0.47687\u001b[0m\u001b[0m | time: 27.763s\n",
      "| Adam | epoch: 020 | loss: 0.47687 - acc: 0.7361 -- iter: 975000/986488\n",
      "Training Step: 1320  | total loss: \u001b[1m\u001b[32m0.47675\u001b[0m\u001b[0m | time: 30.441s\n",
      "| Adam | epoch: 020 | loss: 0.47675 - acc: 0.7358 | val_loss: 0.36907 - val_acc: 0.9648 -- iter: 986488/986488\n",
      "--\n"
     ]
    }
   ],
   "source": [
    "model.fit(X, y2, n_epoch=20, batch_size=15000, show_metric=True, shuffle=True, validation_set=(X_val, y_val2))"
   ]
  },
  {
   "cell_type": "code",
   "execution_count": 21,
   "metadata": {},
   "outputs": [
    {
     "name": "stdout",
     "output_type": "stream",
     "text": [
      "0.5439490123582332\n"
     ]
    }
   ],
   "source": [
    "y_pred = model.predict(X_val)\n",
    "print(roc_auc_score(y_val, y_pred[:,1]))"
   ]
  },
  {
   "cell_type": "code",
   "execution_count": 17,
   "metadata": {},
   "outputs": [
    {
     "name": "stdout",
     "output_type": "stream",
     "text": [
      "0.566214609779676\n",
      "CPU times: user 3min 27s, sys: 767 ms, total: 3min 27s\n",
      "Wall time: 3min 27s\n"
     ]
    }
   ],
   "source": [
    "%%time\n",
    "import xgboost as xgb\n",
    "\n",
    "classifier = xgb.XGBClassifier()\n",
    "classifier.fit(X, y)\n",
    "\n",
    "y_pred = classifier.predict_proba(X_val)\n",
    "print(roc_auc_score(y_val, y_pred[:,1]))"
   ]
  },
  {
   "cell_type": "code",
   "execution_count": 18,
   "metadata": {},
   "outputs": [
    {
     "name": "stdout",
     "output_type": "stream",
     "text": [
      "0.5848527032885595\n",
      "CPU times: user 4min 33s, sys: 6.45 s, total: 4min 40s\n",
      "Wall time: 1min 12s\n"
     ]
    }
   ],
   "source": [
    "%%time\n",
    "classifier = RandomForestClassifier(50, random_state=1986, n_jobs=-1)\n",
    "classifier.fit(X, y)\n",
    "\n",
    "y_pred = classifier.predict_proba(X_val)\n",
    "print(roc_auc_score(y_val, y_pred[:,1]))"
   ]
  },
  {
   "cell_type": "code",
   "execution_count": 19,
   "metadata": {},
   "outputs": [
    {
     "name": "stdout",
     "output_type": "stream",
     "text": [
      "0.5923716525039213\n",
      "CPU times: user 9min 24s, sys: 12.5 s, total: 9min 36s\n",
      "Wall time: 2min 28s\n"
     ]
    }
   ],
   "source": [
    "%%time\n",
    "classifier = RandomForestClassifier(100, random_state=1986, n_jobs=-1)\n",
    "classifier.fit(X, y)\n",
    "\n",
    "y_pred = classifier.predict_proba(X_val)\n",
    "print(roc_auc_score(y_val, y_pred[:,1]))"
   ]
  },
  {
   "cell_type": "code",
   "execution_count": 41,
   "metadata": {},
   "outputs": [
    {
     "name": "stdout",
     "output_type": "stream",
     "text": [
      "0.5955335717215446\n",
      "CPU times: user 5min 16s, sys: 18.7 s, total: 5min 34s\n",
      "Wall time: 2min 12s\n"
     ]
    }
   ],
   "source": [
    "%%time\n",
    "from sklearn.ensemble import ExtraTreesClassifier\n",
    "\n",
    "classifier = ExtraTreesClassifier(100, criterion='entropy', random_state=1986, n_jobs=-1)\n",
    "classifier.fit(X, y)\n",
    "\n",
    "y_pred = classifier.predict_proba(X_val)\n",
    "print(roc_auc_score(y_val, y_pred[:,1]))"
   ]
  },
  {
   "cell_type": "code",
   "execution_count": 21,
   "metadata": {},
   "outputs": [
    {
     "name": "stdout",
     "output_type": "stream",
     "text": [
      "0.6017560464303687\n",
      "CPU times: user 2h 25min 31s, sys: 51.5 s, total: 2h 26min 23s\n",
      "Wall time: 37min 54s\n"
     ]
    }
   ],
   "source": [
    "%%time\n",
    "classifier = RandomForestClassifier(bootstrap=False, criterion='gini',\n",
    "                                    max_depth=29, max_features=0.3375, n_estimators=414,\n",
    "                                    random_state=1986, n_jobs=-1)\n",
    "classifier.fit(X, y)\n",
    "\n",
    "y_pred = classifier.predict_proba(X_val)\n",
    "print(roc_auc_score(y_val, y_pred[:,1]))"
   ]
  },
  {
   "cell_type": "code",
   "execution_count": 33,
   "metadata": {},
   "outputs": [
    {
     "name": "stdout",
     "output_type": "stream",
     "text": [
      "0.5893729097773983\n",
      "CPU times: user 1min 34s, sys: 846 ms, total: 1min 34s\n",
      "Wall time: 25.6 s\n"
     ]
    }
   ],
   "source": [
    "%%time\n",
    "from lightgbm import LGBMClassifier\n",
    "\n",
    "classifier = LGBMClassifier(random_state=123, metric='auc', num_leaves=31, max_depth=24,\n",
    "                            n_estimators=251, learning_rate=0.2687098558722311,\n",
    "                            colsample_bytree=0.6398839827468012)\n",
    "\n",
    "classifier.fit(X, y)\n",
    "\n",
    "y_pred = classifier.predict_proba(X_val)\n",
    "print(roc_auc_score(y_val, y_pred[:,1]))"
   ]
  },
  {
   "cell_type": "code",
   "execution_count": null,
   "metadata": {
    "scrolled": true
   },
   "outputs": [],
   "source": [
    "%%time\n",
    "from catboost import CatBoostClassifier, Pool\n",
    "\n",
    "# diz a modelo quais features sao categoricas\n",
    "cat_features = list(range(0, 17)) + [18]\n",
    "column_description_vector = ['numeric'] * df_trade_final[features].shape[1]\n",
    "for x in cat_features[:]:\n",
    "    column_description_vector[x] = 'factor'\n",
    "\n",
    "cat_train = Pool(X, y, cat_features, column_description=column_description_vector)\n",
    "cat_val = Pool(X_val, cat_features=cat_features, column_description=column_description_vector)\n",
    "\n",
    "classifier = CatBoostClassifier(iterations=100, random_state=1986, custom_metric='AUC')\n",
    "classifier.fit(cat_train)\n",
    "\n",
    "y_pred = classifier.predict_proba(cat_val)\n",
    "print(roc_auc_score(y_val, y_pred[:,1]))"
   ]
  },
  {
   "cell_type": "markdown",
   "metadata": {},
   "source": [
    "# Submission"
   ]
  },
  {
   "cell_type": "code",
   "execution_count": null,
   "metadata": {},
   "outputs": [],
   "source": [
    "%%time\n",
    "classifier.fit(df_trade_final[features].values,\n",
    "               df_trade_final.CustomerInterest.values)"
   ]
  },
  {
   "cell_type": "code",
   "execution_count": null,
   "metadata": {},
   "outputs": [],
   "source": [
    "features_importance = zip(classifier.feature_importances_, features)\n",
    "for importance, feature in sorted(features_importance, reverse=True):\n",
    "    print(\"%s: %f%%\" % (feature, importance))"
   ]
  },
  {
   "cell_type": "code",
   "execution_count": 34,
   "metadata": {},
   "outputs": [],
   "source": [
    "df_challenge_final = pd.read_pickle('df_challenge_final.pkl')"
   ]
  },
  {
   "cell_type": "code",
   "execution_count": 35,
   "metadata": {},
   "outputs": [
    {
     "data": {
      "text/plain": [
       "Index(['BuySell', 'Sector', 'Subsector', 'Region_x', 'Country', 'TickerIdx',\n",
       "       'Seniority', 'Currency', 'ActivityGroup', 'Region_y', 'Activity',\n",
       "       'RiskCaptain', 'Owner', 'CompositeRating', 'IndustrySector',\n",
       "       'IndustrySubgroup', 'MarketIssue', 'IssuedAmount', 'CouponType',\n",
       "       'pca0_mean', 'pca0_min', 'pca0_max', 'pca0_incressing', 'pca0_skew',\n",
       "       'pca0_kurt', 'pca0_std', 'pca1_mean', 'pca1_min', 'pca1_max',\n",
       "       'pca1_incressing', 'pca1_skew', 'pca1_kurt', 'pca1_std', 'pca2_mean',\n",
       "       'pca2_min', 'pca2_max', 'pca2_incressing', 'pca2_skew', 'pca2_kurt',\n",
       "       'pca2_std', 'pca3_mean', 'pca3_min', 'pca3_max', 'pca3_incressing',\n",
       "       'pca3_skew', 'pca3_kurt', 'pca3_std', 'pca4_mean', 'pca4_min',\n",
       "       'pca4_max', 'pca4_incressing', 'pca4_skew', 'pca4_kurt', 'pca4_std',\n",
       "       'BuySell_Buy.sum', 'BuySell_Sell.sum', 'TradeStatus_Done.sum',\n",
       "       'TradeStatus_IOI.sum', 'TradeStatus_NotTraded.sum',\n",
       "       'TradeStatus_Unknown.sum', 'ExecutedBuy.sum', 'ExecutedSell.sum',\n",
       "       'ExecutedBalance.sum', 'BuySell_Buy.sum_ByCustomer',\n",
       "       'BuySell_Sell.sum_ByCustomer', 'TradeStatus_Done.sum_ByCustomer',\n",
       "       'TradeStatus_IOI.sum_ByCustomer',\n",
       "       'TradeStatus_NotTraded.sum_ByCustomer',\n",
       "       'TradeStatus_Unknown.sum_ByCustomer', 'ExecutedBuy.sum_ByCustomer',\n",
       "       'ExecutedSell.sum_ByCustomer', 'ExecutedBalance.sum_ByCustomer',\n",
       "       'IsinIdx.count', 'IsinIdx.nunique', 'BuySell_Buy.sum_ByIsin',\n",
       "       'BuySell_Sell.sum_ByIsin', 'TradeStatus_Done.sum_ByIsin',\n",
       "       'TradeStatus_IOI.sum_ByIsin', 'TradeStatus_NotTraded.sum_ByIsin',\n",
       "       'TradeStatus_Unknown.sum_ByIsin', 'ExecutedBuy.sum_ByIsin',\n",
       "       'ExecutedSell.sum_ByIsin', 'ExecutedBalance.sum_ByIsin',\n",
       "       'CustomerIdx.count', 'CustomerIdx.nunique', 'all_period', 'past_period',\n",
       "       'remaining_period'],\n",
       "      dtype='object')"
      ]
     },
     "execution_count": 35,
     "metadata": {},
     "output_type": "execute_result"
    }
   ],
   "source": [
    "features = df_challenge_final.columns.drop(['CustomerIdx', 'IsinIdx', 'CustomerInterest',\n",
    "                                            'ActualMaturityDateKey', 'IssueDateKey', 'DateKey', 'PredictionIdx',\n",
    "                                            'week_start',\n",
    "                                            'next_week_start'])\n",
    "features"
   ]
  },
  {
   "cell_type": "code",
   "execution_count": 36,
   "metadata": {},
   "outputs": [
    {
     "data": {
      "text/html": [
       "<div>\n",
       "<style scoped>\n",
       "    .dataframe tbody tr th:only-of-type {\n",
       "        vertical-align: middle;\n",
       "    }\n",
       "\n",
       "    .dataframe tbody tr th {\n",
       "        vertical-align: top;\n",
       "    }\n",
       "\n",
       "    .dataframe thead th {\n",
       "        text-align: right;\n",
       "    }\n",
       "</style>\n",
       "<table border=\"1\" class=\"dataframe\">\n",
       "  <thead>\n",
       "    <tr style=\"text-align: right;\">\n",
       "      <th></th>\n",
       "      <th>BuySell</th>\n",
       "      <th>Sector</th>\n",
       "      <th>Subsector</th>\n",
       "      <th>Region_x</th>\n",
       "      <th>Country</th>\n",
       "      <th>TickerIdx</th>\n",
       "      <th>Seniority</th>\n",
       "      <th>Currency</th>\n",
       "      <th>ActivityGroup</th>\n",
       "      <th>Region_y</th>\n",
       "      <th>...</th>\n",
       "      <th>TradeStatus_NotTraded.sum_ByIsin</th>\n",
       "      <th>TradeStatus_Unknown.sum_ByIsin</th>\n",
       "      <th>ExecutedBuy.sum_ByIsin</th>\n",
       "      <th>ExecutedSell.sum_ByIsin</th>\n",
       "      <th>ExecutedBalance.sum_ByIsin</th>\n",
       "      <th>CustomerIdx.count</th>\n",
       "      <th>CustomerIdx.nunique</th>\n",
       "      <th>all_period</th>\n",
       "      <th>past_period</th>\n",
       "      <th>remaining_period</th>\n",
       "    </tr>\n",
       "  </thead>\n",
       "  <tbody>\n",
       "    <tr>\n",
       "      <th>0</th>\n",
       "      <td>0</td>\n",
       "      <td>0</td>\n",
       "      <td>22</td>\n",
       "      <td>0</td>\n",
       "      <td>83</td>\n",
       "      <td>2740</td>\n",
       "      <td>5</td>\n",
       "      <td>19</td>\n",
       "      <td>0</td>\n",
       "      <td>0</td>\n",
       "      <td>...</td>\n",
       "      <td>5.0</td>\n",
       "      <td>111.0</td>\n",
       "      <td>50.0</td>\n",
       "      <td>66.0</td>\n",
       "      <td>-16.0</td>\n",
       "      <td>381.0</td>\n",
       "      <td>327.0</td>\n",
       "      <td>2923</td>\n",
       "      <td>1866</td>\n",
       "      <td>1057</td>\n",
       "    </tr>\n",
       "    <tr>\n",
       "      <th>1</th>\n",
       "      <td>1</td>\n",
       "      <td>2</td>\n",
       "      <td>3</td>\n",
       "      <td>2</td>\n",
       "      <td>60</td>\n",
       "      <td>3450</td>\n",
       "      <td>5</td>\n",
       "      <td>11</td>\n",
       "      <td>0</td>\n",
       "      <td>5</td>\n",
       "      <td>...</td>\n",
       "      <td>29.0</td>\n",
       "      <td>29.0</td>\n",
       "      <td>72.0</td>\n",
       "      <td>57.0</td>\n",
       "      <td>15.0</td>\n",
       "      <td>573.0</td>\n",
       "      <td>541.0</td>\n",
       "      <td>2659</td>\n",
       "      <td>696</td>\n",
       "      <td>1963</td>\n",
       "    </tr>\n",
       "    <tr>\n",
       "      <th>2</th>\n",
       "      <td>1</td>\n",
       "      <td>2</td>\n",
       "      <td>3</td>\n",
       "      <td>2</td>\n",
       "      <td>36</td>\n",
       "      <td>2573</td>\n",
       "      <td>5</td>\n",
       "      <td>11</td>\n",
       "      <td>0</td>\n",
       "      <td>5</td>\n",
       "      <td>...</td>\n",
       "      <td>11.0</td>\n",
       "      <td>28.0</td>\n",
       "      <td>48.0</td>\n",
       "      <td>45.0</td>\n",
       "      <td>3.0</td>\n",
       "      <td>431.0</td>\n",
       "      <td>412.0</td>\n",
       "      <td>2922</td>\n",
       "      <td>899</td>\n",
       "      <td>2023</td>\n",
       "    </tr>\n",
       "    <tr>\n",
       "      <th>3</th>\n",
       "      <td>1</td>\n",
       "      <td>2</td>\n",
       "      <td>32</td>\n",
       "      <td>2</td>\n",
       "      <td>74</td>\n",
       "      <td>2540</td>\n",
       "      <td>5</td>\n",
       "      <td>9</td>\n",
       "      <td>0</td>\n",
       "      <td>5</td>\n",
       "      <td>...</td>\n",
       "      <td>20.0</td>\n",
       "      <td>39.0</td>\n",
       "      <td>60.0</td>\n",
       "      <td>69.0</td>\n",
       "      <td>-9.0</td>\n",
       "      <td>149.0</td>\n",
       "      <td>125.0</td>\n",
       "      <td>4383</td>\n",
       "      <td>1512</td>\n",
       "      <td>2871</td>\n",
       "    </tr>\n",
       "    <tr>\n",
       "      <th>4</th>\n",
       "      <td>1</td>\n",
       "      <td>0</td>\n",
       "      <td>2</td>\n",
       "      <td>2</td>\n",
       "      <td>4</td>\n",
       "      <td>1662</td>\n",
       "      <td>5</td>\n",
       "      <td>9</td>\n",
       "      <td>0</td>\n",
       "      <td>5</td>\n",
       "      <td>...</td>\n",
       "      <td>0.0</td>\n",
       "      <td>0.0</td>\n",
       "      <td>0.0</td>\n",
       "      <td>0.0</td>\n",
       "      <td>0.0</td>\n",
       "      <td>0.0</td>\n",
       "      <td>0.0</td>\n",
       "      <td>4383</td>\n",
       "      <td>1628</td>\n",
       "      <td>2755</td>\n",
       "    </tr>\n",
       "  </tbody>\n",
       "</table>\n",
       "<p>5 rows × 88 columns</p>\n",
       "</div>"
      ],
      "text/plain": [
       "   BuySell  Sector  Subsector  Region_x  Country  TickerIdx  Seniority  \\\n",
       "0        0       0         22         0       83       2740          5   \n",
       "1        1       2          3         2       60       3450          5   \n",
       "2        1       2          3         2       36       2573          5   \n",
       "3        1       2         32         2       74       2540          5   \n",
       "4        1       0          2         2        4       1662          5   \n",
       "\n",
       "   Currency  ActivityGroup  Region_y        ...         \\\n",
       "0        19              0         0        ...          \n",
       "1        11              0         5        ...          \n",
       "2        11              0         5        ...          \n",
       "3         9              0         5        ...          \n",
       "4         9              0         5        ...          \n",
       "\n",
       "   TradeStatus_NotTraded.sum_ByIsin  TradeStatus_Unknown.sum_ByIsin  \\\n",
       "0                               5.0                           111.0   \n",
       "1                              29.0                            29.0   \n",
       "2                              11.0                            28.0   \n",
       "3                              20.0                            39.0   \n",
       "4                               0.0                             0.0   \n",
       "\n",
       "   ExecutedBuy.sum_ByIsin  ExecutedSell.sum_ByIsin  \\\n",
       "0                    50.0                     66.0   \n",
       "1                    72.0                     57.0   \n",
       "2                    48.0                     45.0   \n",
       "3                    60.0                     69.0   \n",
       "4                     0.0                      0.0   \n",
       "\n",
       "   ExecutedBalance.sum_ByIsin  CustomerIdx.count  CustomerIdx.nunique  \\\n",
       "0                       -16.0              381.0                327.0   \n",
       "1                        15.0              573.0                541.0   \n",
       "2                         3.0              431.0                412.0   \n",
       "3                        -9.0              149.0                125.0   \n",
       "4                         0.0                0.0                  0.0   \n",
       "\n",
       "   all_period  past_period  remaining_period  \n",
       "0        2923         1866              1057  \n",
       "1        2659          696              1963  \n",
       "2        2922          899              2023  \n",
       "3        4383         1512              2871  \n",
       "4        4383         1628              2755  \n",
       "\n",
       "[5 rows x 88 columns]"
      ]
     },
     "execution_count": 36,
     "metadata": {},
     "output_type": "execute_result"
    }
   ],
   "source": [
    "df_challenge_final[features].head()"
   ]
  },
  {
   "cell_type": "code",
   "execution_count": 37,
   "metadata": {},
   "outputs": [],
   "source": [
    "X_test = scaler.transform(df_challenge_final[features].values)"
   ]
  },
  {
   "cell_type": "code",
   "execution_count": null,
   "metadata": {},
   "outputs": [],
   "source": [
    "y_pred = classifier.predict_proba(X_test)"
   ]
  },
  {
   "cell_type": "code",
   "execution_count": null,
   "metadata": {},
   "outputs": [],
   "source": [
    "sns.distplot(y_pred[:,1]);"
   ]
  },
  {
   "cell_type": "code",
   "execution_count": null,
   "metadata": {},
   "outputs": [],
   "source": [
    "df_submission = pd.read_csv('data/sample_submission.csv')\n",
    "df_submission.CustomerInterest = y_pred[:,1]\n",
    "df_submission.to_csv('camargo-sub_et_hist.csv', index=False)\n",
    "df_submission.head()"
   ]
  },
  {
   "cell_type": "markdown",
   "metadata": {},
   "source": [
    "# Tunning"
   ]
  },
  {
   "cell_type": "code",
   "execution_count": 28,
   "metadata": {},
   "outputs": [],
   "source": [
    "classifier = LGBMClassifier(random_state=123, metric='auc')"
   ]
  },
  {
   "cell_type": "code",
   "execution_count": 29,
   "metadata": {
    "scrolled": false
   },
   "outputs": [
    {
     "name": "stdout",
     "output_type": "stream",
     "text": [
      "\u001b[31mInitialization\u001b[0m\n",
      "\u001b[94m------------------------------------------------------------------------------------------------------------------\u001b[0m\n",
      " Step |   Time |      Value |   colsample_bytree |   learning_rate |   max_depth |   n_estimators |   num_leaves | \n",
      "    1 | 00m16s | \u001b[35m   0.58796\u001b[0m | \u001b[32m            0.6059\u001b[0m | \u001b[32m         0.1067\u001b[0m | \u001b[32m    22.3567\u001b[0m | \u001b[32m      110.9568\u001b[0m | \u001b[32m     28.3495\u001b[0m | \n",
      "    2 | 00m12s |    0.55049 |             0.5211 |          0.1361 |      1.3112 |       169.1231 |      36.8582 | \n",
      "    3 | 00m15s |    0.57962 |             0.6385 |          0.1133 |     12.8993 |       106.9373 |      15.4553 | \n",
      "    4 | 00m24s | \u001b[35m   0.58906\u001b[0m | \u001b[32m            0.9807\u001b[0m | \u001b[32m         0.1929\u001b[0m | \u001b[32m     3.5742\u001b[0m | \u001b[32m      150.8450\u001b[0m | \u001b[32m     17.1983\u001b[0m | \n",
      "    5 | 00m28s |    0.55520 |             0.9256 |          0.2422 |      1.5926 |       258.8668 |      17.4518 | \n",
      "\u001b[31mBayesian Optimization\u001b[0m\n",
      "\u001b[94m------------------------------------------------------------------------------------------------------------------\u001b[0m\n",
      " Step |   Time |      Value |   colsample_bytree |   learning_rate |   max_depth |   n_estimators |   num_leaves | \n",
      "    6 | 00m25s |    0.58863 |             0.5000 |          0.3000 |     25.0000 |       202.2947 |      15.0000 | \n",
      "    7 | 01m08s |    0.55714 |             1.0000 |          0.0100 |     25.0000 |       300.0000 |      15.0000 | \n",
      "    8 | 00m20s |    0.58277 |             0.5470 |          0.2314 |     24.9702 |       143.5234 |      15.6359 | \n",
      "    9 | 00m20s |    0.57961 |             0.5091 |          0.0831 |     -0.9795 |       100.2872 |      39.5116 | \n",
      "   10 | 00m28s |    0.57771 |             0.6722 |          0.2458 |     -0.6363 |       194.9577 |      15.0639 | \n",
      "   11 | 00m37s |    0.58523 |             0.6232 |          0.0647 |     24.4806 |       252.3365 |      15.0855 | \n",
      "   12 | 00m31s |    0.55104 |             1.0000 |          0.0100 |     25.0000 |       100.0000 |      40.0000 | \n",
      "   13 | 00m49s |    0.55739 |             0.5000 |          0.0100 |     25.0000 |       299.5514 |      40.0000 | \n",
      "   14 | 00m40s | \u001b[35m   0.59005\u001b[0m | \u001b[32m            0.8969\u001b[0m | \u001b[32m         0.2809\u001b[0m | \u001b[32m    24.9151\u001b[0m | \u001b[32m      233.1766\u001b[0m | \u001b[32m     39.1152\u001b[0m | \n",
      "   15 | 00m24s |    0.57237 |             0.5935 |          0.0405 |     -0.9855 |       122.0079 |      25.2537 | \n",
      "   16 | 00m53s | \u001b[35m   0.59023\u001b[0m | \u001b[32m            0.9473\u001b[0m | \u001b[32m         0.2894\u001b[0m | \u001b[32m    -0.8297\u001b[0m | \u001b[32m      298.6482\u001b[0m | \u001b[32m     39.5004\u001b[0m | \n",
      "   17 | 00m47s | \u001b[35m   0.59722\u001b[0m | \u001b[32m            0.8858\u001b[0m | \u001b[32m         0.1157\u001b[0m | \u001b[32m     0.1612\u001b[0m | \u001b[32m      299.8816\u001b[0m | \u001b[32m     15.7090\u001b[0m | \n"
     ]
    },
    {
     "name": "stderr",
     "output_type": "stream",
     "text": [
      "/home/carlosbaia/anaconda3/lib/python3.6/site-packages/sklearn/gaussian_process/gpr.py:457: UserWarning: fmin_l_bfgs_b terminated abnormally with the  state: {'grad': array([1.98268581e-05]), 'task': b'ABNORMAL_TERMINATION_IN_LNSRCH', 'funcalls': 52, 'nit': 7, 'warnflag': 2}\n",
      "  \" state: %s\" % convergence_dict)\n"
     ]
    },
    {
     "name": "stdout",
     "output_type": "stream",
     "text": [
      "   18 | 00m38s |    0.59118 |             0.7002 |          0.2440 |     24.9906 |       264.9232 |      39.6599 | \n",
      "   19 | 00m28s |    0.58974 |             0.6937 |          0.1329 |     14.0280 |       174.1122 |      15.1092 | \n",
      "   20 | 00m24s |    0.59304 |             0.6923 |          0.2973 |     23.5061 |       136.8241 |      39.8724 | \n",
      "   21 | 00m45s |    0.57169 |             0.8009 |          0.0167 |     24.9070 |       192.7410 |      39.9323 | \n",
      "   22 | 00m27s |    0.58862 |             0.9736 |          0.2265 |     13.4593 |       122.2621 |      39.3657 | \n",
      "   23 | 00m32s |    0.58947 |             0.5000 |          0.2756 |      8.7072 |       288.7215 |      28.4327 | \n",
      "   24 | 00m41s |    0.59108 |             0.9879 |          0.1601 |     24.7587 |       226.9123 |      22.1201 | \n",
      "   25 | 00m21s |    0.58892 |             0.5270 |          0.2919 |     15.3266 |       142.5515 |      28.9114 | \n",
      "   26 | 00m37s |    0.59512 |             0.5438 |          0.1190 |     -0.8072 |       299.9232 |      26.8404 | \n",
      "   27 | 00m36s |    0.59401 |             0.5756 |          0.2573 |     -0.9560 |       287.2362 |      15.0677 | \n",
      "   28 | 00m34s |    0.58223 |             0.9913 |          0.2264 |     23.6303 |       125.8649 |      30.4214 | \n",
      "   29 | 00m37s |    0.58015 |             0.5331 |          0.1788 |     -0.8096 |       277.1174 |      39.5597 | \n",
      "   30 | 00m27s |    0.59303 |             0.5198 |          0.1272 |     24.8620 |       162.3271 |      39.3671 | \n",
      "   31 | 00m30s |    0.59201 |             0.5512 |          0.2843 |     24.3247 |       226.0927 |      15.0773 | \n",
      "   32 | 00m24s |    0.55258 |             0.5208 |          0.1822 |      2.6434 |       166.3744 |      15.1446 | \n",
      "   33 | 00m35s |    0.58852 |             0.7644 |          0.2731 |     -0.5162 |       222.8463 |      39.8944 | \n"
     ]
    },
    {
     "name": "stderr",
     "output_type": "stream",
     "text": [
      "/home/carlosbaia/anaconda3/lib/python3.6/site-packages/sklearn/gaussian_process/gpr.py:457: UserWarning: fmin_l_bfgs_b terminated abnormally with the  state: {'grad': array([2.58341288e-05]), 'task': b'ABNORMAL_TERMINATION_IN_LNSRCH', 'funcalls': 54, 'nit': 4, 'warnflag': 2}\n",
      "  \" state: %s\" % convergence_dict)\n"
     ]
    },
    {
     "name": "stdout",
     "output_type": "stream",
     "text": [
      "   34 | 00m41s |    0.58192 |             0.9899 |          0.2040 |      4.5510 |       218.3965 |      15.0624 | \n",
      "   35 | 00m25s |    0.59325 |             0.9758 |          0.1398 |     24.9483 |       101.3657 |      16.1385 | \n",
      "   36 | 00m34s |    0.58954 |             0.9407 |          0.1069 |     24.6700 |       167.0308 |      15.1658 | \n",
      "   37 | 01m04s |    0.58006 |             0.9506 |          0.0191 |     12.7123 |       245.4855 |      39.7974 | \n",
      "   38 | 00m40s |    0.58187 |             0.9904 |          0.2960 |      9.6748 |       206.4892 |      39.5023 | \n",
      "   39 | 00m28s |    0.58840 |             0.8369 |          0.2793 |     -0.4726 |       140.7905 |      39.8752 | \n",
      "   40 | 00m43s |    0.59688 |             0.8009 |          0.1521 |     24.5538 |       276.6487 |      15.4883 | \n"
     ]
    },
    {
     "name": "stderr",
     "output_type": "stream",
     "text": [
      "/home/carlosbaia/anaconda3/lib/python3.6/site-packages/sklearn/gaussian_process/gpr.py:457: UserWarning: fmin_l_bfgs_b terminated abnormally with the  state: {'grad': array([2.25600348e-05]), 'task': b'ABNORMAL_TERMINATION_IN_LNSRCH', 'funcalls': 49, 'nit': 4, 'warnflag': 2}\n",
      "  \" state: %s\" % convergence_dict)\n"
     ]
    },
    {
     "name": "stdout",
     "output_type": "stream",
     "text": [
      "   41 | 00m27s |    0.58693 |             0.9895 |          0.1889 |     24.1451 |       114.7760 |      15.3369 | \n",
      "   42 | 00m38s |    0.59574 |             0.9994 |          0.2308 |     12.5675 |       197.6931 |      15.0581 | \n",
      "   43 | 00m42s |    0.57729 |             0.8743 |          0.0239 |     16.0751 |       149.8836 |      39.9176 | \n",
      "   44 | 00m29s |    0.59313 |             0.6337 |          0.2882 |     24.8863 |       180.7069 |      24.2339 | \n",
      "   45 | 00m23s |    0.58974 |             0.5262 |          0.2710 |      6.5776 |       139.2319 |      15.2811 | \n",
      "   46 | 00m47s |    0.58998 |             0.8658 |          0.2738 |     24.8746 |       277.4535 |      28.8841 | \n"
     ]
    },
    {
     "name": "stderr",
     "output_type": "stream",
     "text": [
      "/home/carlosbaia/anaconda3/lib/python3.6/site-packages/sklearn/gaussian_process/gpr.py:457: UserWarning: fmin_l_bfgs_b terminated abnormally with the  state: {'grad': array([0.00010112]), 'task': b'ABNORMAL_TERMINATION_IN_LNSRCH', 'funcalls': 54, 'nit': 4, 'warnflag': 2}\n",
      "  \" state: %s\" % convergence_dict)\n"
     ]
    },
    {
     "name": "stdout",
     "output_type": "stream",
     "text": [
      "   47 | 00m30s |    0.59473 |             0.5097 |          0.2307 |     -0.7532 |       209.1952 |      27.4366 | \n",
      "   48 | 00m25s |    0.58942 |             0.6200 |          0.2816 |     -0.2128 |       117.1261 |      39.8694 | \n",
      "   49 | 00m32s |    0.58934 |             0.5261 |          0.2690 |     12.5632 |       217.6322 |      28.4228 | \n",
      "   50 | 00m38s |    0.58608 |             0.5212 |          0.1164 |     14.6564 |       279.6271 |      15.0333 | \n",
      "   51 | 00m40s | \u001b[35m   0.60069\u001b[0m | \u001b[32m            0.6399\u001b[0m | \u001b[32m         0.2687\u001b[0m | \u001b[32m    24.7589\u001b[0m | \u001b[32m      251.1466\u001b[0m | \u001b[32m     31.5713\u001b[0m | \n",
      "   52 | 00m30s |    0.59692 |             0.5553 |          0.2622 |     20.0782 |       185.4860 |      15.0155 | \n",
      "   53 | 00m52s |    0.59293 |             0.9705 |          0.2559 |     24.8261 |       263.9879 |      27.2381 | \n",
      "   54 | 00m38s |    0.59175 |             0.5037 |          0.2853 |     24.2665 |       250.4973 |      39.8292 | \n",
      "   55 | 00m38s |    0.57989 |             0.5783 |          0.2825 |     24.8921 |       239.3791 |      29.0446 | \n",
      "   56 | 00m53s |    0.59994 |             0.9565 |          0.0592 |     24.7992 |       216.3445 |      37.5551 | \n"
     ]
    },
    {
     "name": "stderr",
     "output_type": "stream",
     "text": [
      "/home/carlosbaia/anaconda3/lib/python3.6/site-packages/sklearn/gaussian_process/gpr.py:457: UserWarning: fmin_l_bfgs_b terminated abnormally with the  state: {'grad': array([-0.00052175]), 'task': b'ABNORMAL_TERMINATION_IN_LNSRCH', 'funcalls': 54, 'nit': 4, 'warnflag': 2}\n",
      "  \" state: %s\" % convergence_dict)\n"
     ]
    },
    {
     "name": "stdout",
     "output_type": "stream",
     "text": [
      "   57 | 00m33s |    0.57854 |             0.9805 |          0.0523 |     -0.6037 |       100.4809 |      15.1554 | \n",
      "   58 | 00m38s |    0.59308 |             0.9886 |          0.2019 |     24.8338 |       155.9004 |      26.4739 | \n",
      "   59 | 01m09s |    0.59411 |             0.9954 |          0.0381 |     -0.3444 |       291.0290 |      22.8047 | \n",
      "   60 | 00m52s |    0.59662 |             0.9689 |          0.2310 |     -0.7788 |       250.1398 |      39.0172 | \n",
      "   61 | 00m45s |    0.59155 |             0.9572 |          0.2805 |     24.7025 |       215.5943 |      26.8272 | \n",
      "   62 | 01m05s |    0.57067 |             0.9149 |          0.0102 |     -0.9674 |       238.6549 |      32.1840 | \n",
      "   63 | 00m31s |    0.59424 |             0.9854 |          0.2222 |     10.5136 |       100.0389 |      25.2664 | \n",
      "   64 | 00m39s |    0.59475 |             0.9980 |          0.2083 |     -0.5283 |       141.9202 |      25.5771 | \n"
     ]
    },
    {
     "name": "stderr",
     "output_type": "stream",
     "text": [
      "/home/carlosbaia/anaconda3/lib/python3.6/site-packages/sklearn/gaussian_process/gpr.py:457: UserWarning: fmin_l_bfgs_b terminated abnormally with the  state: {'grad': array([-8.15868592e-05]), 'task': b'ABNORMAL_TERMINATION_IN_LNSRCH', 'funcalls': 51, 'nit': 4, 'warnflag': 2}\n",
      "  \" state: %s\" % convergence_dict)\n"
     ]
    },
    {
     "name": "stdout",
     "output_type": "stream",
     "text": [
      "   65 | 00m54s |    0.59736 |             0.9120 |          0.1826 |     -0.2339 |       260.0480 |      39.7467 | \n",
      "   66 | 01m04s |    0.58744 |             0.8662 |          0.0353 |     24.9517 |       255.0783 |      33.1455 | \n"
     ]
    },
    {
     "name": "stderr",
     "output_type": "stream",
     "text": [
      "/home/carlosbaia/anaconda3/lib/python3.6/site-packages/sklearn/gaussian_process/gpr.py:457: UserWarning: fmin_l_bfgs_b terminated abnormally with the  state: {'grad': array([-0.00013837]), 'task': b'ABNORMAL_TERMINATION_IN_LNSRCH', 'funcalls': 51, 'nit': 4, 'warnflag': 2}\n",
      "  \" state: %s\" % convergence_dict)\n"
     ]
    },
    {
     "name": "stdout",
     "output_type": "stream",
     "text": [
      "   67 | 00m36s |    0.58878 |             0.5586 |          0.2936 |     23.5738 |       220.8894 |      39.9880 | \n",
      "   68 | 00m56s |    0.58823 |             1.0000 |          0.3000 |     17.4158 |       283.0834 |      40.0000 | \n",
      "   69 | 00m42s |    0.58828 |             0.9312 |          0.2916 |     -0.7715 |       195.5763 |      31.3125 | \n"
     ]
    },
    {
     "name": "stderr",
     "output_type": "stream",
     "text": [
      "/home/carlosbaia/anaconda3/lib/python3.6/site-packages/sklearn/gaussian_process/gpr.py:457: UserWarning: fmin_l_bfgs_b terminated abnormally with the  state: {'grad': array([-0.00027672]), 'task': b'ABNORMAL_TERMINATION_IN_LNSRCH', 'funcalls': 65, 'nit': 6, 'warnflag': 2}\n",
      "  \" state: %s\" % convergence_dict)\n"
     ]
    },
    {
     "name": "stdout",
     "output_type": "stream",
     "text": [
      "   70 | 00m55s |    0.58430 |             0.9674 |          0.2979 |     10.7783 |       296.1275 |      15.3704 | \n",
      "   71 | 00m44s |    0.58182 |             0.9320 |          0.2846 |     24.8538 |       207.2020 |      38.9765 | \n"
     ]
    },
    {
     "name": "stderr",
     "output_type": "stream",
     "text": [
      "/home/carlosbaia/anaconda3/lib/python3.6/site-packages/sklearn/gaussian_process/gpr.py:457: UserWarning: fmin_l_bfgs_b terminated abnormally with the  state: {'grad': array([-0.00011045]), 'task': b'ABNORMAL_TERMINATION_IN_LNSRCH', 'funcalls': 59, 'nit': 6, 'warnflag': 2}\n",
      "  \" state: %s\" % convergence_dict)\n"
     ]
    },
    {
     "name": "stdout",
     "output_type": "stream",
     "text": [
      "   72 | 00m51s |    0.58925 |             0.9869 |          0.0567 |     24.6797 |       175.9303 |      39.3588 | \n"
     ]
    },
    {
     "name": "stderr",
     "output_type": "stream",
     "text": [
      "/home/carlosbaia/anaconda3/lib/python3.6/site-packages/sklearn/gaussian_process/gpr.py:457: UserWarning: fmin_l_bfgs_b terminated abnormally with the  state: {'grad': array([-0.00027839]), 'task': b'ABNORMAL_TERMINATION_IN_LNSRCH', 'funcalls': 57, 'nit': 4, 'warnflag': 2}\n",
      "  \" state: %s\" % convergence_dict)\n",
      "/home/carlosbaia/anaconda3/lib/python3.6/site-packages/sklearn/gaussian_process/gpr.py:457: UserWarning: fmin_l_bfgs_b terminated abnormally with the  state: {'grad': array([-0.00060397]), 'task': b'ABNORMAL_TERMINATION_IN_LNSRCH', 'funcalls': 61, 'nit': 5, 'warnflag': 2}\n",
      "  \" state: %s\" % convergence_dict)\n"
     ]
    },
    {
     "name": "stdout",
     "output_type": "stream",
     "text": [
      "   73 | 00m45s |    0.58688 |             0.8466 |          0.1771 |     -0.9857 |       208.2313 |      39.5048 | \n",
      "   74 | 00m55s |    0.57571 |             0.9756 |          0.0200 |     11.3717 |       187.3202 |      24.7738 | \n"
     ]
    },
    {
     "name": "stderr",
     "output_type": "stream",
     "text": [
      "/home/carlosbaia/anaconda3/lib/python3.6/site-packages/sklearn/gaussian_process/gpr.py:457: UserWarning: fmin_l_bfgs_b terminated abnormally with the  state: {'grad': array([-0.00055396]), 'task': b'ABNORMAL_TERMINATION_IN_LNSRCH', 'funcalls': 53, 'nit': 3, 'warnflag': 2}\n",
      "  \" state: %s\" % convergence_dict)\n",
      "/home/carlosbaia/anaconda3/lib/python3.6/site-packages/sklearn/gaussian_process/gpr.py:457: UserWarning: fmin_l_bfgs_b terminated abnormally with the  state: {'grad': array([-0.00024662]), 'task': b'ABNORMAL_TERMINATION_IN_LNSRCH', 'funcalls': 51, 'nit': 5, 'warnflag': 2}\n",
      "  \" state: %s\" % convergence_dict)\n"
     ]
    },
    {
     "name": "stdout",
     "output_type": "stream",
     "text": [
      "   75 | 00m45s |    0.58134 |             0.7216 |          0.2971 |      8.6896 |       264.9482 |      31.0264 | \n"
     ]
    },
    {
     "name": "stderr",
     "output_type": "stream",
     "text": [
      "/home/carlosbaia/anaconda3/lib/python3.6/site-packages/sklearn/gaussian_process/gpr.py:457: UserWarning: fmin_l_bfgs_b terminated abnormally with the  state: {'grad': array([5.56692248e-05]), 'task': b'ABNORMAL_TERMINATION_IN_LNSRCH', 'funcalls': 55, 'nit': 4, 'warnflag': 2}\n",
      "  \" state: %s\" % convergence_dict)\n"
     ]
    },
    {
     "name": "stdout",
     "output_type": "stream",
     "text": [
      "   76 | 00m36s |    0.56691 |             0.9210 |          0.0237 |     -0.9152 |       100.2217 |      26.9990 | \n",
      "   77 | 00m35s |    0.59434 |             0.9316 |          0.1196 |      9.6202 |       106.0449 |      39.9218 | \n",
      "   78 | 00m52s |    0.58623 |             0.9924 |          0.2895 |     24.3354 |       264.4387 |      15.1567 | \n",
      "   79 | 00m40s |    0.58633 |             1.0000 |          0.3000 |     25.0000 |       146.4720 |      37.5108 | \n"
     ]
    },
    {
     "name": "stderr",
     "output_type": "stream",
     "text": [
      "/home/carlosbaia/anaconda3/lib/python3.6/site-packages/sklearn/gaussian_process/gpr.py:457: UserWarning: fmin_l_bfgs_b terminated abnormally with the  state: {'grad': array([-2.99159437e-05]), 'task': b'ABNORMAL_TERMINATION_IN_LNSRCH', 'funcalls': 53, 'nit': 3, 'warnflag': 2}\n",
      "  \" state: %s\" % convergence_dict)\n"
     ]
    },
    {
     "name": "stdout",
     "output_type": "stream",
     "text": [
      "   80 | 00m31s |    0.53054 |             0.5000 |          0.0100 |     -1.0000 |       142.1619 |      15.2071 | \n",
      "   81 | 00m36s |    0.58010 |             0.9980 |          0.2784 |     13.9707 |       150.6024 |      15.6614 | \n",
      "   82 | 00m37s |    0.56732 |             0.9322 |          0.0680 |      4.9766 |       154.6001 |      28.1945 | \n",
      "   83 | 00m40s |    0.58758 |             0.9953 |          0.0591 |      9.4109 |       130.6009 |      24.2884 | \n",
      "   84 | 00m29s |    0.59327 |             0.8005 |          0.2302 |     24.7188 |       115.8021 |      39.6963 | \n",
      "   85 | 00m41s |    0.58024 |             0.9575 |          0.2543 |     -0.2006 |       188.3751 |      39.7297 | \n",
      "   86 | 00m45s |    0.58812 |             0.7340 |          0.2942 |     24.1799 |       287.4516 |      15.3024 | \n",
      "   87 | 00m27s |    0.57766 |             0.5758 |          0.2998 |      4.7759 |       137.4260 |      29.8679 | \n",
      "   88 | 00m33s |    0.58835 |             0.9813 |          0.2009 |     20.6359 |       131.7994 |      15.0476 | \n",
      "   89 | 00m35s |    0.58845 |             0.9735 |          0.1758 |      9.3122 |       142.4167 |      20.8899 | \n",
      "   90 | 00m46s |    0.58820 |             0.6509 |          0.1752 |      9.8511 |       299.0701 |      39.9346 | \n",
      "   91 | 00m25s |    0.58596 |             0.6339 |          0.2980 |     11.6797 |       123.7347 |      15.0142 | \n",
      "   92 | 00m43s |    0.58850 |             0.7002 |          0.2660 |     -0.9497 |       274.5163 |      26.2546 | \n",
      "   93 | 00m46s |    0.58185 |             1.0000 |          0.3000 |     15.2640 |       235.4724 |      15.0000 | \n",
      "   94 | 00m22s |    0.58230 |             0.5112 |          0.2142 |     15.8465 |       100.0968 |      15.0431 | \n",
      "   95 | 00m47s |    0.58977 |             0.9939 |          0.2681 |      0.2025 |       218.3387 |      30.3677 | \n",
      "   96 | 00m36s |    0.59324 |             0.8170 |          0.2957 |     24.9981 |       177.1237 |      15.1099 | \n",
      "   97 | 00m35s |    0.59349 |             0.7625 |          0.2764 |     24.0859 |       168.4732 |      28.2970 | \n",
      "   98 | 00m42s |    0.59694 |             0.9272 |          0.3000 |     16.4549 |       212.9117 |      15.5211 | \n",
      "   99 | 00m42s |    0.58979 |             0.7254 |          0.2980 |     16.5655 |       250.9818 |      24.6807 | \n",
      "  100 | 00m39s |    0.59367 |             0.9630 |          0.1863 |     -0.8616 |       152.4615 |      39.9999 | \n",
      "  101 | 00m32s |    0.59717 |             0.9723 |          0.2808 |      9.6736 |       111.6450 |      28.7009 | \n",
      "  102 | 00m44s |    0.58608 |             0.5399 |          0.2139 |     24.7121 |       284.1691 |      39.7860 | \n",
      "  103 | 00m45s |    0.59013 |             0.9389 |          0.2896 |      7.4596 |       207.8148 |      23.0979 | \n"
     ]
    },
    {
     "name": "stderr",
     "output_type": "stream",
     "text": [
      "/home/carlosbaia/anaconda3/lib/python3.6/site-packages/sklearn/gaussian_process/gpr.py:457: UserWarning: fmin_l_bfgs_b terminated abnormally with the  state: {'grad': array([-0.0002285]), 'task': b'ABNORMAL_TERMINATION_IN_LNSRCH', 'funcalls': 52, 'nit': 5, 'warnflag': 2}\n",
      "  \" state: %s\" % convergence_dict)\n"
     ]
    },
    {
     "name": "stdout",
     "output_type": "stream",
     "text": [
      "  104 | 00m46s |    0.59006 |             0.7732 |          0.2883 |     24.9523 |       250.6254 |      24.6963 | \n",
      "  105 | 00m40s |    0.58397 |             0.5000 |          0.3000 |     19.2771 |       273.4998 |      39.3562 | \n",
      "BayesianOptimization) Score: 0.6006942301283495   Params: {'num_leaves': 31.57127605192371, 'max_depth': 24.75887277264046, 'n_estimators': 251.1465886227144, 'learning_rate': 0.2687098558722311, 'colsample_bytree': 0.6398839827468012}\n"
     ]
    },
    {
     "data": {
      "text/plain": [
       "LGBMClassifier(boosting_type='gbdt', class_weight=None,\n",
       "        colsample_bytree=0.6398839827468012,\n",
       "        learning_rate=0.2687098558722311, max_depth=24.75887277264046,\n",
       "        metric='auc', min_child_samples=20, min_child_weight=0.001,\n",
       "        min_split_gain=0.0, n_estimators=251.1465886227144, n_jobs=-1,\n",
       "        num_leaves=31.57127605192371, objective=None, random_state=123,\n",
       "        reg_alpha=0.0, reg_lambda=0.0, silent=True, subsample=1.0,\n",
       "        subsample_for_bin=200000, subsample_freq=0)"
      ]
     },
     "execution_count": 29,
     "metadata": {},
     "output_type": "execute_result"
    }
   ],
   "source": [
    "from bayes_opt import BayesianOptimization\n",
    "\n",
    "\n",
    "param_grid = {\n",
    "    'num_leaves': (15, 40),\n",
    "    'max_depth': (-1, 25),\n",
    "    'n_estimators': (100, 300),\n",
    "    'learning_rate': (0.01, 0.3),\n",
    "    'colsample_bytree': (0.5, 1)\n",
    "}\n",
    "\n",
    "def model_cv(**params):\n",
    "    params['max_depth'] = int(params['max_depth'])\n",
    "    params['n_estimators'] = -1 if params['n_estimators'] < 0 else int(params['n_estimators'])\n",
    "    params['num_leaves'] = int(params['num_leaves'])\n",
    "    \n",
    "    classifier.set_params(**params).fit(X, y)\n",
    "    y_pred = classifier.predict_proba(X_val)\n",
    "    return roc_auc_score(y_val, y_pred[:,1])\n",
    "\n",
    "\n",
    "bo = BayesianOptimization(model_cv, param_grid)\n",
    "bo.maximize(5, 100)\n",
    "print('BayesianOptimization) Score: %.16f   Params: %s' % (abs(bo.res['max']['max_val']),\n",
    "                                                           bo.res['max']['max_params']))\n",
    "classifier.set_params(**bo.res['max']['max_params'])"
   ]
  },
  {
   "cell_type": "code",
   "execution_count": null,
   "metadata": {},
   "outputs": [],
   "source": []
  }
 ],
 "metadata": {
  "kernelspec": {
   "display_name": "Python 3",
   "language": "python",
   "name": "python3"
  },
  "language_info": {
   "codemirror_mode": {
    "name": "ipython",
    "version": 3
   },
   "file_extension": ".py",
   "mimetype": "text/x-python",
   "name": "python",
   "nbconvert_exporter": "python",
   "pygments_lexer": "ipython3",
   "version": "3.6.5"
  }
 },
 "nbformat": 4,
 "nbformat_minor": 2
}
