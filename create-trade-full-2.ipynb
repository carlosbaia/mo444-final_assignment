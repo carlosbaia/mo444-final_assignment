{
 "cells": [
  {
   "cell_type": "code",
   "execution_count": 3,
   "metadata": {},
   "outputs": [],
   "source": [
    "import numpy as np\n",
    "import pandas as pd"
   ]
  },
  {
   "cell_type": "code",
   "execution_count": 4,
   "metadata": {},
   "outputs": [],
   "source": [
    "from datetime import datetime\n",
    "\n",
    "start = datetime.now()"
   ]
  },
  {
   "cell_type": "code",
   "execution_count": 5,
   "metadata": {},
   "outputs": [],
   "source": [
    "def show_df(df):\n",
    "    print('Rows: {:,} / Cols: {:,}'.format(len(df), len(df.columns)))\n",
    "    return df.head(3)\n",
    "\n",
    "def create_dummies(df, column):\n",
    "    dummies = pd.get_dummies(df[column], prefix=column)\n",
    "    df[dummies.columns] = dummies"
   ]
  },
  {
   "cell_type": "code",
   "execution_count": 6,
   "metadata": {},
   "outputs": [],
   "source": [
    "first_day_of_week = 'W-SUN'\n",
    "inflate_database = False"
   ]
  },
  {
   "cell_type": "markdown",
   "metadata": {},
   "source": [
    "# Trade"
   ]
  },
  {
   "cell_type": "code",
   "execution_count": 7,
   "metadata": {},
   "outputs": [],
   "source": [
    "df_trade = pd.read_csv('data/Trade.csv')\n",
    "df_trade.TradeDateKey = pd.to_datetime(df_trade.TradeDateKey, format='%Y%m%d')\n",
    "df_trade['original'] = True"
   ]
  },
  {
   "cell_type": "code",
   "execution_count": 7,
   "metadata": {},
   "outputs": [],
   "source": [
    "if inflate_database:\n",
    "    df_trade_rev = df_trade[df_trade.CustomerInterest == 1].copy()\n",
    "    df_trade_rev.BuySell = df_trade_rev.BuySell.apply(lambda v: 'Buy' if v == 'Sell' else 'Sell')\n",
    "    df_trade['original'] = False\n",
    "    df_trade_rev.CustomerInterest = 0"
   ]
  },
  {
   "cell_type": "code",
   "execution_count": 11,
   "metadata": {},
   "outputs": [],
   "source": [
    "if inflate_database:\n",
    "    df_challenge = pd.read_csv('data/Challenge_20180423.csv')\n",
    "    df_trade_test = df_challenge[['CustomerIdx', 'IsinIdx', 'BuySell']].copy()\n",
    "    df_trade_test['TradeDateKey'] = df_trade.TradeDateKey.max()  # coloca na ultima semana\n",
    "    df_trade_test['original'] = False\n",
    "    df_trade_test['CustomerInterest'] = 0                      "
   ]
  },
  {
   "cell_type": "code",
   "execution_count": 12,
   "metadata": {
    "scrolled": true
   },
   "outputs": [],
   "source": [
    "if inflate_database:\n",
    "    df_trade = pd.concat([df_trade, df_trade_rev, df_trade_test], ignore_index=True)\n",
    "df_trade['week_start'] = df_trade.TradeDateKey.dt.to_period(first_day_of_week).dt.start_time \n",
    "df_trade.sort_values('TradeDateKey', inplace=True)\n",
    "df_trade.reset_index(inplace=True, drop=True)"
   ]
  },
  {
   "cell_type": "code",
   "execution_count": 13,
   "metadata": {},
   "outputs": [],
   "source": [
    "df_trade = df_trade[df_trade.TradeDateKey.dt.year >= 2018]\n",
    "df_trade.to_csv('data/Trade2.csv', index=False)"
   ]
  },
  {
   "cell_type": "code",
   "execution_count": 8,
   "metadata": {},
   "outputs": [
    {
     "name": "stdout",
     "output_type": "stream",
     "text": [
      "Rows: 6,762,021 / Cols: 9\n"
     ]
    },
    {
     "data": {
      "text/html": [
       "<div>\n",
       "<style scoped>\n",
       "    .dataframe tbody tr th:only-of-type {\n",
       "        vertical-align: middle;\n",
       "    }\n",
       "\n",
       "    .dataframe tbody tr th {\n",
       "        vertical-align: top;\n",
       "    }\n",
       "\n",
       "    .dataframe thead th {\n",
       "        text-align: right;\n",
       "    }\n",
       "</style>\n",
       "<table border=\"1\" class=\"dataframe\">\n",
       "  <thead>\n",
       "    <tr style=\"text-align: right;\">\n",
       "      <th></th>\n",
       "      <th>TradeDateKey</th>\n",
       "      <th>CustomerIdx</th>\n",
       "      <th>IsinIdx</th>\n",
       "      <th>BuySell</th>\n",
       "      <th>NotionalEUR</th>\n",
       "      <th>Price</th>\n",
       "      <th>TradeStatus</th>\n",
       "      <th>CustomerInterest</th>\n",
       "      <th>original</th>\n",
       "    </tr>\n",
       "  </thead>\n",
       "  <tbody>\n",
       "    <tr>\n",
       "      <th>0</th>\n",
       "      <td>2016-12-07</td>\n",
       "      <td>2789</td>\n",
       "      <td>8478</td>\n",
       "      <td>Sell</td>\n",
       "      <td>653168.0</td>\n",
       "      <td>0.0</td>\n",
       "      <td>Unknown</td>\n",
       "      <td>1.0</td>\n",
       "      <td>True</td>\n",
       "    </tr>\n",
       "    <tr>\n",
       "      <th>1</th>\n",
       "      <td>2017-03-29</td>\n",
       "      <td>2574</td>\n",
       "      <td>14562</td>\n",
       "      <td>Buy</td>\n",
       "      <td>1656487.0</td>\n",
       "      <td>0.0</td>\n",
       "      <td>Unknown</td>\n",
       "      <td>1.0</td>\n",
       "      <td>True</td>\n",
       "    </tr>\n",
       "    <tr>\n",
       "      <th>2</th>\n",
       "      <td>2017-04-18</td>\n",
       "      <td>2574</td>\n",
       "      <td>4747</td>\n",
       "      <td>Buy</td>\n",
       "      <td>939673.0</td>\n",
       "      <td>0.0</td>\n",
       "      <td>Unknown</td>\n",
       "      <td>1.0</td>\n",
       "      <td>True</td>\n",
       "    </tr>\n",
       "  </tbody>\n",
       "</table>\n",
       "</div>"
      ],
      "text/plain": [
       "  TradeDateKey  CustomerIdx  IsinIdx BuySell  NotionalEUR  Price TradeStatus  \\\n",
       "0   2016-12-07         2789     8478    Sell     653168.0    0.0     Unknown   \n",
       "1   2017-03-29         2574    14562     Buy    1656487.0    0.0     Unknown   \n",
       "2   2017-04-18         2574     4747     Buy     939673.0    0.0     Unknown   \n",
       "\n",
       "   CustomerInterest  original  \n",
       "0               1.0      True  \n",
       "1               1.0      True  \n",
       "2               1.0      True  "
      ]
     },
     "execution_count": 8,
     "metadata": {},
     "output_type": "execute_result"
    }
   ],
   "source": [
    "show_df(df_trade)"
   ]
  },
  {
   "cell_type": "markdown",
   "metadata": {},
   "source": [
    "## Looking history"
   ]
  },
  {
   "cell_type": "code",
   "execution_count": 11,
   "metadata": {},
   "outputs": [],
   "source": [
    "df_trade_orig = pd.read_csv('data/Trade.csv')\n",
    "df_trade_orig.TradeDateKey = pd.to_datetime(df_trade_orig.TradeDateKey, format='%Y%m%d')\n",
    "df_trade_orig['week_start'] = df_trade_orig.TradeDateKey.dt.to_period(first_day_of_week).dt.start_time"
   ]
  },
  {
   "cell_type": "code",
   "execution_count": 12,
   "metadata": {},
   "outputs": [],
   "source": [
    "create_dummies(df_trade_orig, 'BuySell')\n",
    "create_dummies(df_trade_orig, 'TradeStatus')"
   ]
  },
  {
   "cell_type": "code",
   "execution_count": 13,
   "metadata": {},
   "outputs": [],
   "source": [
    "df_trade_orig.loc[(df_trade_orig.BuySell == 'Buy') & (df_trade_orig.CustomerInterest == 1), 'ExecutedBuy'] = 1\n",
    "df_trade_orig.loc[(df_trade_orig.BuySell == 'Sell') & (df_trade_orig.CustomerInterest == 1), 'ExecutedSell'] = 1\n",
    "\n",
    "df_trade_orig.ExecutedBuy.fillna(0, inplace=True)\n",
    "df_trade_orig.ExecutedSell.fillna(0, inplace=True)\n",
    "\n",
    "df_trade_orig['ExecutedBalance'] = df_trade_orig.ExecutedBuy - df_trade_orig.ExecutedSell"
   ]
  },
  {
   "cell_type": "code",
   "execution_count": 14,
   "metadata": {
    "scrolled": true
   },
   "outputs": [
    {
     "data": {
      "text/plain": [
       "TradeDateKey             2016-12-07 00:00:00\n",
       "CustomerIdx                             2789\n",
       "IsinIdx                                 8478\n",
       "BuySell                                 Sell\n",
       "NotionalEUR                           653168\n",
       "Price                                      0\n",
       "TradeStatus                          Unknown\n",
       "CustomerInterest                           1\n",
       "week_start               2016-12-05 00:00:00\n",
       "BuySell_Buy                                0\n",
       "BuySell_Sell                               1\n",
       "TradeStatus_Done                           0\n",
       "TradeStatus_Holding                        0\n",
       "TradeStatus_IOI                            0\n",
       "TradeStatus_NotTraded                      0\n",
       "TradeStatus_Unknown                        1\n",
       "ExecutedBuy                                0\n",
       "ExecutedSell                               1\n",
       "ExecutedBalance                           -1\n",
       "Name: 0, dtype: object"
      ]
     },
     "execution_count": 14,
     "metadata": {},
     "output_type": "execute_result"
    }
   ],
   "source": [
    "df_trade_orig.iloc[0]"
   ]
  },
  {
   "cell_type": "code",
   "execution_count": 15,
   "metadata": {},
   "outputs": [],
   "source": [
    "agg_features = ['BuySell_Buy', 'BuySell_Sell', 'TradeStatus_Done', 'TradeStatus_IOI', 'TradeStatus_NotTraded',\n",
    "                'TradeStatus_Unknown', 'ExecutedBuy', 'ExecutedSell', 'ExecutedBalance']\n",
    "\n",
    "aggs = {}\n",
    "for feature in agg_features:\n",
    "    aggs[feature] = ['sum']"
   ]
  },
  {
   "cell_type": "markdown",
   "metadata": {},
   "source": [
    "### By Customer + Isin"
   ]
  },
  {
   "cell_type": "code",
   "execution_count": 16,
   "metadata": {},
   "outputs": [
    {
     "name": "stdout",
     "output_type": "stream",
     "text": [
      "Rows: 6,200,077 / Cols: 12\n"
     ]
    },
    {
     "data": {
      "text/html": [
       "<div>\n",
       "<style scoped>\n",
       "    .dataframe tbody tr th:only-of-type {\n",
       "        vertical-align: middle;\n",
       "    }\n",
       "\n",
       "    .dataframe tbody tr th {\n",
       "        vertical-align: top;\n",
       "    }\n",
       "\n",
       "    .dataframe thead th {\n",
       "        text-align: right;\n",
       "    }\n",
       "</style>\n",
       "<table border=\"1\" class=\"dataframe\">\n",
       "  <thead>\n",
       "    <tr style=\"text-align: right;\">\n",
       "      <th></th>\n",
       "      <th>CustomerIdx</th>\n",
       "      <th>IsinIdx</th>\n",
       "      <th>week_start</th>\n",
       "      <th>BuySell_Buy.sum</th>\n",
       "      <th>BuySell_Sell.sum</th>\n",
       "      <th>TradeStatus_Done.sum</th>\n",
       "      <th>TradeStatus_IOI.sum</th>\n",
       "      <th>TradeStatus_NotTraded.sum</th>\n",
       "      <th>TradeStatus_Unknown.sum</th>\n",
       "      <th>ExecutedBuy.sum</th>\n",
       "      <th>ExecutedSell.sum</th>\n",
       "      <th>ExecutedBalance.sum</th>\n",
       "    </tr>\n",
       "  </thead>\n",
       "  <tbody>\n",
       "    <tr>\n",
       "      <th>0</th>\n",
       "      <td>0</td>\n",
       "      <td>16471</td>\n",
       "      <td>2017-05-15</td>\n",
       "      <td>1</td>\n",
       "      <td>0</td>\n",
       "      <td>1</td>\n",
       "      <td>0</td>\n",
       "      <td>0</td>\n",
       "      <td>0</td>\n",
       "      <td>1.0</td>\n",
       "      <td>0.0</td>\n",
       "      <td>1.0</td>\n",
       "    </tr>\n",
       "    <tr>\n",
       "      <th>1</th>\n",
       "      <td>0</td>\n",
       "      <td>16499</td>\n",
       "      <td>2017-06-05</td>\n",
       "      <td>1</td>\n",
       "      <td>0</td>\n",
       "      <td>1</td>\n",
       "      <td>0</td>\n",
       "      <td>0</td>\n",
       "      <td>0</td>\n",
       "      <td>1.0</td>\n",
       "      <td>0.0</td>\n",
       "      <td>1.0</td>\n",
       "    </tr>\n",
       "    <tr>\n",
       "      <th>2</th>\n",
       "      <td>0</td>\n",
       "      <td>20601</td>\n",
       "      <td>2017-06-12</td>\n",
       "      <td>1</td>\n",
       "      <td>0</td>\n",
       "      <td>1</td>\n",
       "      <td>0</td>\n",
       "      <td>0</td>\n",
       "      <td>0</td>\n",
       "      <td>1.0</td>\n",
       "      <td>0.0</td>\n",
       "      <td>1.0</td>\n",
       "    </tr>\n",
       "  </tbody>\n",
       "</table>\n",
       "</div>"
      ],
      "text/plain": [
       "   CustomerIdx  IsinIdx week_start  BuySell_Buy.sum  BuySell_Sell.sum  \\\n",
       "0            0    16471 2017-05-15                1                 0   \n",
       "1            0    16499 2017-06-05                1                 0   \n",
       "2            0    20601 2017-06-12                1                 0   \n",
       "\n",
       "   TradeStatus_Done.sum  TradeStatus_IOI.sum  TradeStatus_NotTraded.sum  \\\n",
       "0                     1                    0                          0   \n",
       "1                     1                    0                          0   \n",
       "2                     1                    0                          0   \n",
       "\n",
       "   TradeStatus_Unknown.sum  ExecutedBuy.sum  ExecutedSell.sum  \\\n",
       "0                        0              1.0               0.0   \n",
       "1                        0              1.0               0.0   \n",
       "2                        0              1.0               0.0   \n",
       "\n",
       "   ExecutedBalance.sum  \n",
       "0                  1.0  \n",
       "1                  1.0  \n",
       "2                  1.0  "
      ]
     },
     "execution_count": 16,
     "metadata": {},
     "output_type": "execute_result"
    }
   ],
   "source": [
    "df_trade_hist = df_trade_orig.groupby(['CustomerIdx', 'IsinIdx', 'week_start']).agg(aggs)\n",
    "df_trade_hist = df_trade_hist.reset_index()\n",
    "df_trade_hist.columns = ['.'.join(tup).rstrip('.') for tup in df_trade_hist.columns.values]\n",
    "\n",
    "show_df(df_trade_hist)"
   ]
  },
  {
   "cell_type": "code",
   "execution_count": 17,
   "metadata": {},
   "outputs": [
    {
     "name": "stdout",
     "output_type": "stream",
     "text": [
      "Rows: 6,200,077 / Cols: 12\n"
     ]
    },
    {
     "data": {
      "text/html": [
       "<div>\n",
       "<style scoped>\n",
       "    .dataframe tbody tr th:only-of-type {\n",
       "        vertical-align: middle;\n",
       "    }\n",
       "\n",
       "    .dataframe tbody tr th {\n",
       "        vertical-align: top;\n",
       "    }\n",
       "\n",
       "    .dataframe thead th {\n",
       "        text-align: right;\n",
       "    }\n",
       "</style>\n",
       "<table border=\"1\" class=\"dataframe\">\n",
       "  <thead>\n",
       "    <tr style=\"text-align: right;\">\n",
       "      <th></th>\n",
       "      <th>CustomerIdx</th>\n",
       "      <th>IsinIdx</th>\n",
       "      <th>week_start</th>\n",
       "      <th>BuySell_Buy.sum</th>\n",
       "      <th>BuySell_Sell.sum</th>\n",
       "      <th>TradeStatus_Done.sum</th>\n",
       "      <th>TradeStatus_IOI.sum</th>\n",
       "      <th>TradeStatus_NotTraded.sum</th>\n",
       "      <th>TradeStatus_Unknown.sum</th>\n",
       "      <th>ExecutedBuy.sum</th>\n",
       "      <th>ExecutedSell.sum</th>\n",
       "      <th>ExecutedBalance.sum</th>\n",
       "    </tr>\n",
       "  </thead>\n",
       "  <tbody>\n",
       "    <tr>\n",
       "      <th>0</th>\n",
       "      <td>0</td>\n",
       "      <td>16471</td>\n",
       "      <td>2017-05-15</td>\n",
       "      <td>1</td>\n",
       "      <td>0</td>\n",
       "      <td>1</td>\n",
       "      <td>0</td>\n",
       "      <td>0</td>\n",
       "      <td>0</td>\n",
       "      <td>1.0</td>\n",
       "      <td>0.0</td>\n",
       "      <td>1.0</td>\n",
       "    </tr>\n",
       "    <tr>\n",
       "      <th>1</th>\n",
       "      <td>0</td>\n",
       "      <td>16499</td>\n",
       "      <td>2017-06-05</td>\n",
       "      <td>1</td>\n",
       "      <td>0</td>\n",
       "      <td>1</td>\n",
       "      <td>0</td>\n",
       "      <td>0</td>\n",
       "      <td>0</td>\n",
       "      <td>1.0</td>\n",
       "      <td>0.0</td>\n",
       "      <td>1.0</td>\n",
       "    </tr>\n",
       "    <tr>\n",
       "      <th>2</th>\n",
       "      <td>0</td>\n",
       "      <td>20601</td>\n",
       "      <td>2017-06-12</td>\n",
       "      <td>1</td>\n",
       "      <td>0</td>\n",
       "      <td>1</td>\n",
       "      <td>0</td>\n",
       "      <td>0</td>\n",
       "      <td>0</td>\n",
       "      <td>1.0</td>\n",
       "      <td>0.0</td>\n",
       "      <td>1.0</td>\n",
       "    </tr>\n",
       "  </tbody>\n",
       "</table>\n",
       "</div>"
      ],
      "text/plain": [
       "   CustomerIdx  IsinIdx week_start  BuySell_Buy.sum  BuySell_Sell.sum  \\\n",
       "0            0    16471 2017-05-15                1                 0   \n",
       "1            0    16499 2017-06-05                1                 0   \n",
       "2            0    20601 2017-06-12                1                 0   \n",
       "\n",
       "   TradeStatus_Done.sum  TradeStatus_IOI.sum  TradeStatus_NotTraded.sum  \\\n",
       "0                     1                    0                          0   \n",
       "1                     1                    0                          0   \n",
       "2                     1                    0                          0   \n",
       "\n",
       "   TradeStatus_Unknown.sum  ExecutedBuy.sum  ExecutedSell.sum  \\\n",
       "0                        0              1.0               0.0   \n",
       "1                        0              1.0               0.0   \n",
       "2                        0              1.0               0.0   \n",
       "\n",
       "   ExecutedBalance.sum  \n",
       "0                  1.0  \n",
       "1                  1.0  \n",
       "2                  1.0  "
      ]
     },
     "execution_count": 17,
     "metadata": {},
     "output_type": "execute_result"
    }
   ],
   "source": [
    "df_trade_hist.sort_values(['CustomerIdx', 'IsinIdx', 'week_start'], inplace=True)\n",
    "\n",
    "features_agg2 = df_trade_hist.columns.drop(['CustomerIdx', 'IsinIdx', 'week_start'])\n",
    "df_trade_hist_tmp = df_trade_hist.groupby(['CustomerIdx', 'IsinIdx'])[features_agg2].cumsum()\n",
    "\n",
    "df_trade_hist[df_trade_hist_tmp.columns] = df_trade_hist_tmp\n",
    "show_df(df_trade_hist)"
   ]
  },
  {
   "cell_type": "code",
   "execution_count": 18,
   "metadata": {},
   "outputs": [],
   "source": [
    "df_trade_hist['next_week_start'] = df_trade_hist['week_start'] + pd.Timedelta(days=7)\n",
    "df_trade_hist.to_csv('data/Trade2_AggHist.csv', index=False)"
   ]
  },
  {
   "cell_type": "markdown",
   "metadata": {},
   "source": [
    "### By Customer"
   ]
  },
  {
   "cell_type": "code",
   "execution_count": 19,
   "metadata": {},
   "outputs": [
    {
     "name": "stdout",
     "output_type": "stream",
     "text": [
      "Rows: 137,339 / Cols: 13\n"
     ]
    },
    {
     "data": {
      "text/html": [
       "<div>\n",
       "<style scoped>\n",
       "    .dataframe tbody tr th:only-of-type {\n",
       "        vertical-align: middle;\n",
       "    }\n",
       "\n",
       "    .dataframe tbody tr th {\n",
       "        vertical-align: top;\n",
       "    }\n",
       "\n",
       "    .dataframe thead th {\n",
       "        text-align: right;\n",
       "    }\n",
       "</style>\n",
       "<table border=\"1\" class=\"dataframe\">\n",
       "  <thead>\n",
       "    <tr style=\"text-align: right;\">\n",
       "      <th></th>\n",
       "      <th>CustomerIdx</th>\n",
       "      <th>week_start</th>\n",
       "      <th>BuySell_Buy.sum</th>\n",
       "      <th>BuySell_Sell.sum</th>\n",
       "      <th>TradeStatus_Done.sum</th>\n",
       "      <th>TradeStatus_IOI.sum</th>\n",
       "      <th>TradeStatus_NotTraded.sum</th>\n",
       "      <th>TradeStatus_Unknown.sum</th>\n",
       "      <th>ExecutedBuy.sum</th>\n",
       "      <th>ExecutedSell.sum</th>\n",
       "      <th>ExecutedBalance.sum</th>\n",
       "      <th>IsinIdx.count</th>\n",
       "      <th>IsinIdx.nunique</th>\n",
       "    </tr>\n",
       "  </thead>\n",
       "  <tbody>\n",
       "    <tr>\n",
       "      <th>0</th>\n",
       "      <td>0</td>\n",
       "      <td>2016-10-10</td>\n",
       "      <td>1.0</td>\n",
       "      <td>0.0</td>\n",
       "      <td>1.0</td>\n",
       "      <td>0</td>\n",
       "      <td>0.0</td>\n",
       "      <td>0.0</td>\n",
       "      <td>1.0</td>\n",
       "      <td>0.0</td>\n",
       "      <td>1.0</td>\n",
       "      <td>1</td>\n",
       "      <td>1</td>\n",
       "    </tr>\n",
       "    <tr>\n",
       "      <th>1</th>\n",
       "      <td>0</td>\n",
       "      <td>2016-10-31</td>\n",
       "      <td>0.0</td>\n",
       "      <td>1.0</td>\n",
       "      <td>1.0</td>\n",
       "      <td>0</td>\n",
       "      <td>0.0</td>\n",
       "      <td>0.0</td>\n",
       "      <td>0.0</td>\n",
       "      <td>1.0</td>\n",
       "      <td>-1.0</td>\n",
       "      <td>1</td>\n",
       "      <td>1</td>\n",
       "    </tr>\n",
       "    <tr>\n",
       "      <th>2</th>\n",
       "      <td>0</td>\n",
       "      <td>2016-11-07</td>\n",
       "      <td>0.0</td>\n",
       "      <td>3.0</td>\n",
       "      <td>3.0</td>\n",
       "      <td>0</td>\n",
       "      <td>0.0</td>\n",
       "      <td>0.0</td>\n",
       "      <td>0.0</td>\n",
       "      <td>3.0</td>\n",
       "      <td>-3.0</td>\n",
       "      <td>3</td>\n",
       "      <td>2</td>\n",
       "    </tr>\n",
       "  </tbody>\n",
       "</table>\n",
       "</div>"
      ],
      "text/plain": [
       "   CustomerIdx week_start  BuySell_Buy.sum  BuySell_Sell.sum  \\\n",
       "0            0 2016-10-10              1.0               0.0   \n",
       "1            0 2016-10-31              0.0               1.0   \n",
       "2            0 2016-11-07              0.0               3.0   \n",
       "\n",
       "   TradeStatus_Done.sum  TradeStatus_IOI.sum  TradeStatus_NotTraded.sum  \\\n",
       "0                   1.0                    0                        0.0   \n",
       "1                   1.0                    0                        0.0   \n",
       "2                   3.0                    0                        0.0   \n",
       "\n",
       "   TradeStatus_Unknown.sum  ExecutedBuy.sum  ExecutedSell.sum  \\\n",
       "0                      0.0              1.0               0.0   \n",
       "1                      0.0              0.0               1.0   \n",
       "2                      0.0              0.0               3.0   \n",
       "\n",
       "   ExecutedBalance.sum  IsinIdx.count  IsinIdx.nunique  \n",
       "0                  1.0              1                1  \n",
       "1                 -1.0              1                1  \n",
       "2                 -3.0              3                2  "
      ]
     },
     "execution_count": 19,
     "metadata": {},
     "output_type": "execute_result"
    }
   ],
   "source": [
    "aggs2 = aggs.copy()\n",
    "aggs2.update({'IsinIdx': ['count', pd.Series.nunique]})\n",
    "\n",
    "df_trade_hist2 = df_trade_orig.groupby(['CustomerIdx', 'week_start']).agg(aggs2)\n",
    "df_trade_hist2 = df_trade_hist2.reset_index()\n",
    "df_trade_hist2.columns = ['.'.join(tup).rstrip('.') for tup in df_trade_hist2.columns.values]\n",
    "\n",
    "show_df(df_trade_hist2)"
   ]
  },
  {
   "cell_type": "code",
   "execution_count": 20,
   "metadata": {},
   "outputs": [
    {
     "name": "stdout",
     "output_type": "stream",
     "text": [
      "Rows: 137,339 / Cols: 13\n"
     ]
    },
    {
     "data": {
      "text/html": [
       "<div>\n",
       "<style scoped>\n",
       "    .dataframe tbody tr th:only-of-type {\n",
       "        vertical-align: middle;\n",
       "    }\n",
       "\n",
       "    .dataframe tbody tr th {\n",
       "        vertical-align: top;\n",
       "    }\n",
       "\n",
       "    .dataframe thead th {\n",
       "        text-align: right;\n",
       "    }\n",
       "</style>\n",
       "<table border=\"1\" class=\"dataframe\">\n",
       "  <thead>\n",
       "    <tr style=\"text-align: right;\">\n",
       "      <th></th>\n",
       "      <th>CustomerIdx</th>\n",
       "      <th>week_start</th>\n",
       "      <th>BuySell_Buy.sum</th>\n",
       "      <th>BuySell_Sell.sum</th>\n",
       "      <th>TradeStatus_Done.sum</th>\n",
       "      <th>TradeStatus_IOI.sum</th>\n",
       "      <th>TradeStatus_NotTraded.sum</th>\n",
       "      <th>TradeStatus_Unknown.sum</th>\n",
       "      <th>ExecutedBuy.sum</th>\n",
       "      <th>ExecutedSell.sum</th>\n",
       "      <th>ExecutedBalance.sum</th>\n",
       "      <th>IsinIdx.count</th>\n",
       "      <th>IsinIdx.nunique</th>\n",
       "    </tr>\n",
       "  </thead>\n",
       "  <tbody>\n",
       "    <tr>\n",
       "      <th>0</th>\n",
       "      <td>0</td>\n",
       "      <td>2016-10-10</td>\n",
       "      <td>1.0</td>\n",
       "      <td>0.0</td>\n",
       "      <td>1.0</td>\n",
       "      <td>0</td>\n",
       "      <td>0.0</td>\n",
       "      <td>0.0</td>\n",
       "      <td>1.0</td>\n",
       "      <td>0.0</td>\n",
       "      <td>1.0</td>\n",
       "      <td>1</td>\n",
       "      <td>1</td>\n",
       "    </tr>\n",
       "    <tr>\n",
       "      <th>1</th>\n",
       "      <td>0</td>\n",
       "      <td>2016-10-31</td>\n",
       "      <td>1.0</td>\n",
       "      <td>1.0</td>\n",
       "      <td>2.0</td>\n",
       "      <td>0</td>\n",
       "      <td>0.0</td>\n",
       "      <td>0.0</td>\n",
       "      <td>1.0</td>\n",
       "      <td>1.0</td>\n",
       "      <td>0.0</td>\n",
       "      <td>2</td>\n",
       "      <td>2</td>\n",
       "    </tr>\n",
       "    <tr>\n",
       "      <th>2</th>\n",
       "      <td>0</td>\n",
       "      <td>2016-11-07</td>\n",
       "      <td>1.0</td>\n",
       "      <td>4.0</td>\n",
       "      <td>5.0</td>\n",
       "      <td>0</td>\n",
       "      <td>0.0</td>\n",
       "      <td>0.0</td>\n",
       "      <td>1.0</td>\n",
       "      <td>4.0</td>\n",
       "      <td>-3.0</td>\n",
       "      <td>5</td>\n",
       "      <td>4</td>\n",
       "    </tr>\n",
       "  </tbody>\n",
       "</table>\n",
       "</div>"
      ],
      "text/plain": [
       "   CustomerIdx week_start  BuySell_Buy.sum  BuySell_Sell.sum  \\\n",
       "0            0 2016-10-10              1.0               0.0   \n",
       "1            0 2016-10-31              1.0               1.0   \n",
       "2            0 2016-11-07              1.0               4.0   \n",
       "\n",
       "   TradeStatus_Done.sum  TradeStatus_IOI.sum  TradeStatus_NotTraded.sum  \\\n",
       "0                   1.0                    0                        0.0   \n",
       "1                   2.0                    0                        0.0   \n",
       "2                   5.0                    0                        0.0   \n",
       "\n",
       "   TradeStatus_Unknown.sum  ExecutedBuy.sum  ExecutedSell.sum  \\\n",
       "0                      0.0              1.0               0.0   \n",
       "1                      0.0              1.0               1.0   \n",
       "2                      0.0              1.0               4.0   \n",
       "\n",
       "   ExecutedBalance.sum  IsinIdx.count  IsinIdx.nunique  \n",
       "0                  1.0              1                1  \n",
       "1                  0.0              2                2  \n",
       "2                 -3.0              5                4  "
      ]
     },
     "execution_count": 20,
     "metadata": {},
     "output_type": "execute_result"
    }
   ],
   "source": [
    "df_trade_hist2.sort_values(['CustomerIdx', 'week_start'], inplace=True)\n",
    "\n",
    "features_agg2 = df_trade_hist2.columns.drop(['CustomerIdx', 'week_start'])\n",
    "df_trade_hist_tmp = df_trade_hist2.groupby(['CustomerIdx'])[features_agg2].cumsum()\n",
    "\n",
    "df_trade_hist2[df_trade_hist_tmp.columns] = df_trade_hist_tmp\n",
    "show_df(df_trade_hist2)"
   ]
  },
  {
   "cell_type": "code",
   "execution_count": 21,
   "metadata": {},
   "outputs": [],
   "source": [
    "df_trade_hist2['next_week_start'] = df_trade_hist2['week_start'] + pd.Timedelta(days=7)\n",
    "df_trade_hist2.to_csv('data/Trade2_AggHistByCustomer.csv', index=False)"
   ]
  },
  {
   "cell_type": "markdown",
   "metadata": {},
   "source": [
    "### By Isin"
   ]
  },
  {
   "cell_type": "code",
   "execution_count": 22,
   "metadata": {},
   "outputs": [
    {
     "name": "stdout",
     "output_type": "stream",
     "text": [
      "Rows: 1,182,984 / Cols: 13\n"
     ]
    },
    {
     "data": {
      "text/html": [
       "<div>\n",
       "<style scoped>\n",
       "    .dataframe tbody tr th:only-of-type {\n",
       "        vertical-align: middle;\n",
       "    }\n",
       "\n",
       "    .dataframe tbody tr th {\n",
       "        vertical-align: top;\n",
       "    }\n",
       "\n",
       "    .dataframe thead th {\n",
       "        text-align: right;\n",
       "    }\n",
       "</style>\n",
       "<table border=\"1\" class=\"dataframe\">\n",
       "  <thead>\n",
       "    <tr style=\"text-align: right;\">\n",
       "      <th></th>\n",
       "      <th>IsinIdx</th>\n",
       "      <th>week_start</th>\n",
       "      <th>BuySell_Buy.sum</th>\n",
       "      <th>BuySell_Sell.sum</th>\n",
       "      <th>TradeStatus_Done.sum</th>\n",
       "      <th>TradeStatus_IOI.sum</th>\n",
       "      <th>TradeStatus_NotTraded.sum</th>\n",
       "      <th>TradeStatus_Unknown.sum</th>\n",
       "      <th>ExecutedBuy.sum</th>\n",
       "      <th>ExecutedSell.sum</th>\n",
       "      <th>ExecutedBalance.sum</th>\n",
       "      <th>CustomerIdx.count</th>\n",
       "      <th>CustomerIdx.nunique</th>\n",
       "    </tr>\n",
       "  </thead>\n",
       "  <tbody>\n",
       "    <tr>\n",
       "      <th>0</th>\n",
       "      <td>0</td>\n",
       "      <td>2016-02-22</td>\n",
       "      <td>2</td>\n",
       "      <td>0</td>\n",
       "      <td>0.0</td>\n",
       "      <td>0</td>\n",
       "      <td>0</td>\n",
       "      <td>2</td>\n",
       "      <td>2.0</td>\n",
       "      <td>0.0</td>\n",
       "      <td>2.0</td>\n",
       "      <td>2</td>\n",
       "      <td>1</td>\n",
       "    </tr>\n",
       "    <tr>\n",
       "      <th>1</th>\n",
       "      <td>0</td>\n",
       "      <td>2016-05-02</td>\n",
       "      <td>0</td>\n",
       "      <td>1</td>\n",
       "      <td>0.0</td>\n",
       "      <td>0</td>\n",
       "      <td>0</td>\n",
       "      <td>1</td>\n",
       "      <td>0.0</td>\n",
       "      <td>1.0</td>\n",
       "      <td>-1.0</td>\n",
       "      <td>1</td>\n",
       "      <td>1</td>\n",
       "    </tr>\n",
       "    <tr>\n",
       "      <th>2</th>\n",
       "      <td>0</td>\n",
       "      <td>2016-05-16</td>\n",
       "      <td>0</td>\n",
       "      <td>2</td>\n",
       "      <td>0.0</td>\n",
       "      <td>0</td>\n",
       "      <td>2</td>\n",
       "      <td>0</td>\n",
       "      <td>0.0</td>\n",
       "      <td>2.0</td>\n",
       "      <td>-2.0</td>\n",
       "      <td>2</td>\n",
       "      <td>1</td>\n",
       "    </tr>\n",
       "  </tbody>\n",
       "</table>\n",
       "</div>"
      ],
      "text/plain": [
       "   IsinIdx week_start  BuySell_Buy.sum  BuySell_Sell.sum  \\\n",
       "0        0 2016-02-22                2                 0   \n",
       "1        0 2016-05-02                0                 1   \n",
       "2        0 2016-05-16                0                 2   \n",
       "\n",
       "   TradeStatus_Done.sum  TradeStatus_IOI.sum  TradeStatus_NotTraded.sum  \\\n",
       "0                   0.0                    0                          0   \n",
       "1                   0.0                    0                          0   \n",
       "2                   0.0                    0                          2   \n",
       "\n",
       "   TradeStatus_Unknown.sum  ExecutedBuy.sum  ExecutedSell.sum  \\\n",
       "0                        2              2.0               0.0   \n",
       "1                        1              0.0               1.0   \n",
       "2                        0              0.0               2.0   \n",
       "\n",
       "   ExecutedBalance.sum  CustomerIdx.count  CustomerIdx.nunique  \n",
       "0                  2.0                  2                    1  \n",
       "1                 -1.0                  1                    1  \n",
       "2                 -2.0                  2                    1  "
      ]
     },
     "execution_count": 22,
     "metadata": {},
     "output_type": "execute_result"
    }
   ],
   "source": [
    "aggs3 = aggs.copy()\n",
    "aggs3.update({'CustomerIdx': ['count', pd.Series.nunique]})\n",
    "\n",
    "df_trade_hist3 = df_trade_orig.groupby(['IsinIdx', 'week_start']).agg(aggs3)\n",
    "df_trade_hist3 = df_trade_hist3.reset_index()\n",
    "df_trade_hist3.columns = ['.'.join(tup).rstrip('.') for tup in df_trade_hist3.columns.values]\n",
    "\n",
    "show_df(df_trade_hist3)"
   ]
  },
  {
   "cell_type": "code",
   "execution_count": 23,
   "metadata": {},
   "outputs": [
    {
     "name": "stdout",
     "output_type": "stream",
     "text": [
      "Rows: 1,182,984 / Cols: 13\n"
     ]
    },
    {
     "data": {
      "text/html": [
       "<div>\n",
       "<style scoped>\n",
       "    .dataframe tbody tr th:only-of-type {\n",
       "        vertical-align: middle;\n",
       "    }\n",
       "\n",
       "    .dataframe tbody tr th {\n",
       "        vertical-align: top;\n",
       "    }\n",
       "\n",
       "    .dataframe thead th {\n",
       "        text-align: right;\n",
       "    }\n",
       "</style>\n",
       "<table border=\"1\" class=\"dataframe\">\n",
       "  <thead>\n",
       "    <tr style=\"text-align: right;\">\n",
       "      <th></th>\n",
       "      <th>IsinIdx</th>\n",
       "      <th>week_start</th>\n",
       "      <th>BuySell_Buy.sum</th>\n",
       "      <th>BuySell_Sell.sum</th>\n",
       "      <th>TradeStatus_Done.sum</th>\n",
       "      <th>TradeStatus_IOI.sum</th>\n",
       "      <th>TradeStatus_NotTraded.sum</th>\n",
       "      <th>TradeStatus_Unknown.sum</th>\n",
       "      <th>ExecutedBuy.sum</th>\n",
       "      <th>ExecutedSell.sum</th>\n",
       "      <th>ExecutedBalance.sum</th>\n",
       "      <th>CustomerIdx.count</th>\n",
       "      <th>CustomerIdx.nunique</th>\n",
       "    </tr>\n",
       "  </thead>\n",
       "  <tbody>\n",
       "    <tr>\n",
       "      <th>0</th>\n",
       "      <td>0</td>\n",
       "      <td>2016-02-22</td>\n",
       "      <td>2</td>\n",
       "      <td>0</td>\n",
       "      <td>0.0</td>\n",
       "      <td>0</td>\n",
       "      <td>0</td>\n",
       "      <td>2</td>\n",
       "      <td>2.0</td>\n",
       "      <td>0.0</td>\n",
       "      <td>2.0</td>\n",
       "      <td>2</td>\n",
       "      <td>1</td>\n",
       "    </tr>\n",
       "    <tr>\n",
       "      <th>1</th>\n",
       "      <td>0</td>\n",
       "      <td>2016-05-02</td>\n",
       "      <td>2</td>\n",
       "      <td>1</td>\n",
       "      <td>0.0</td>\n",
       "      <td>0</td>\n",
       "      <td>0</td>\n",
       "      <td>3</td>\n",
       "      <td>2.0</td>\n",
       "      <td>1.0</td>\n",
       "      <td>1.0</td>\n",
       "      <td>3</td>\n",
       "      <td>2</td>\n",
       "    </tr>\n",
       "    <tr>\n",
       "      <th>2</th>\n",
       "      <td>0</td>\n",
       "      <td>2016-05-16</td>\n",
       "      <td>2</td>\n",
       "      <td>3</td>\n",
       "      <td>0.0</td>\n",
       "      <td>0</td>\n",
       "      <td>2</td>\n",
       "      <td>3</td>\n",
       "      <td>2.0</td>\n",
       "      <td>3.0</td>\n",
       "      <td>-1.0</td>\n",
       "      <td>5</td>\n",
       "      <td>3</td>\n",
       "    </tr>\n",
       "  </tbody>\n",
       "</table>\n",
       "</div>"
      ],
      "text/plain": [
       "   IsinIdx week_start  BuySell_Buy.sum  BuySell_Sell.sum  \\\n",
       "0        0 2016-02-22                2                 0   \n",
       "1        0 2016-05-02                2                 1   \n",
       "2        0 2016-05-16                2                 3   \n",
       "\n",
       "   TradeStatus_Done.sum  TradeStatus_IOI.sum  TradeStatus_NotTraded.sum  \\\n",
       "0                   0.0                    0                          0   \n",
       "1                   0.0                    0                          0   \n",
       "2                   0.0                    0                          2   \n",
       "\n",
       "   TradeStatus_Unknown.sum  ExecutedBuy.sum  ExecutedSell.sum  \\\n",
       "0                        2              2.0               0.0   \n",
       "1                        3              2.0               1.0   \n",
       "2                        3              2.0               3.0   \n",
       "\n",
       "   ExecutedBalance.sum  CustomerIdx.count  CustomerIdx.nunique  \n",
       "0                  2.0                  2                    1  \n",
       "1                  1.0                  3                    2  \n",
       "2                 -1.0                  5                    3  "
      ]
     },
     "execution_count": 23,
     "metadata": {},
     "output_type": "execute_result"
    }
   ],
   "source": [
    "df_trade_hist3.sort_values(['IsinIdx', 'week_start'], inplace=True)\n",
    "\n",
    "features_agg2 = df_trade_hist3.columns.drop(['IsinIdx', 'week_start'])\n",
    "df_trade_hist_tmp = df_trade_hist3.groupby(['IsinIdx'])[features_agg2].cumsum()\n",
    "\n",
    "df_trade_hist3[df_trade_hist_tmp.columns] = df_trade_hist_tmp\n",
    "show_df(df_trade_hist3)"
   ]
  },
  {
   "cell_type": "code",
   "execution_count": 24,
   "metadata": {},
   "outputs": [],
   "source": [
    "df_trade_hist3['next_week_start'] = df_trade_hist3['week_start'] + pd.Timedelta(days=7)\n",
    "df_trade_hist3.to_csv('data/Trade2_AggHistByIsin.csv', index=False)"
   ]
  },
  {
   "cell_type": "markdown",
   "metadata": {},
   "source": [
    "## Trade By Week"
   ]
  },
  {
   "cell_type": "code",
   "execution_count": 25,
   "metadata": {},
   "outputs": [
    {
     "name": "stdout",
     "output_type": "stream",
     "text": [
      "Rows: 1,477,183 / Cols: 5\n"
     ]
    },
    {
     "data": {
      "text/html": [
       "<div>\n",
       "<style scoped>\n",
       "    .dataframe tbody tr th:only-of-type {\n",
       "        vertical-align: middle;\n",
       "    }\n",
       "\n",
       "    .dataframe tbody tr th {\n",
       "        vertical-align: top;\n",
       "    }\n",
       "\n",
       "    .dataframe thead th {\n",
       "        text-align: right;\n",
       "    }\n",
       "</style>\n",
       "<table border=\"1\" class=\"dataframe\">\n",
       "  <thead>\n",
       "    <tr style=\"text-align: right;\">\n",
       "      <th></th>\n",
       "      <th>week_start</th>\n",
       "      <th>CustomerIdx</th>\n",
       "      <th>IsinIdx</th>\n",
       "      <th>BuySell</th>\n",
       "      <th>CustomerInterest</th>\n",
       "    </tr>\n",
       "  </thead>\n",
       "  <tbody>\n",
       "    <tr>\n",
       "      <th>0</th>\n",
       "      <td>2018-01-01</td>\n",
       "      <td>2</td>\n",
       "      <td>17040</td>\n",
       "      <td>Buy</td>\n",
       "      <td>1.0</td>\n",
       "    </tr>\n",
       "    <tr>\n",
       "      <th>1</th>\n",
       "      <td>2018-01-01</td>\n",
       "      <td>2</td>\n",
       "      <td>17040</td>\n",
       "      <td>Sell</td>\n",
       "      <td>0.0</td>\n",
       "    </tr>\n",
       "    <tr>\n",
       "      <th>2</th>\n",
       "      <td>2018-01-01</td>\n",
       "      <td>9</td>\n",
       "      <td>3428</td>\n",
       "      <td>Buy</td>\n",
       "      <td>1.0</td>\n",
       "    </tr>\n",
       "  </tbody>\n",
       "</table>\n",
       "</div>"
      ],
      "text/plain": [
       "  week_start  CustomerIdx  IsinIdx BuySell  CustomerInterest\n",
       "0 2018-01-01            2    17040     Buy               1.0\n",
       "1 2018-01-01            2    17040    Sell               0.0\n",
       "2 2018-01-01            9     3428     Buy               1.0"
      ]
     },
     "execution_count": 25,
     "metadata": {},
     "output_type": "execute_result"
    }
   ],
   "source": [
    "df_trade_agg = df_trade.groupby(['week_start', 'CustomerIdx', 'IsinIdx', 'BuySell']).CustomerInterest.max()\n",
    "df_trade_agg = df_trade_agg.to_frame().reset_index()\n",
    "show_df(df_trade_agg)"
   ]
  },
  {
   "cell_type": "code",
   "execution_count": 26,
   "metadata": {},
   "outputs": [],
   "source": [
    "df_trade_agg.to_csv('data/Trade2_ByWeek.csv', index=False)"
   ]
  },
  {
   "cell_type": "markdown",
   "metadata": {},
   "source": [
    "# Challenge"
   ]
  },
  {
   "cell_type": "code",
   "execution_count": 27,
   "metadata": {},
   "outputs": [],
   "source": [
    "df_challenge = pd.read_csv('data/Challenge_20180423.csv')\n",
    "df_challenge.DateKey = pd.to_datetime(df_challenge.DateKey, format='%Y%m%d')\n",
    "df_challenge['week_start'] = df_challenge.DateKey.dt.to_period(first_day_of_week).dt.start_time\n",
    "\n",
    "df_challenge.sort_values('DateKey', inplace=True)"
   ]
  },
  {
   "cell_type": "code",
   "execution_count": 28,
   "metadata": {},
   "outputs": [],
   "source": [
    "df_challenge.to_csv('data/Challenge2.csv', index=False)"
   ]
  },
  {
   "cell_type": "code",
   "execution_count": 29,
   "metadata": {},
   "outputs": [
    {
     "name": "stdout",
     "output_type": "stream",
     "text": [
      "Rows: 484,758 / Cols: 7\n"
     ]
    },
    {
     "data": {
      "text/html": [
       "<div>\n",
       "<style scoped>\n",
       "    .dataframe tbody tr th:only-of-type {\n",
       "        vertical-align: middle;\n",
       "    }\n",
       "\n",
       "    .dataframe tbody tr th {\n",
       "        vertical-align: top;\n",
       "    }\n",
       "\n",
       "    .dataframe thead th {\n",
       "        text-align: right;\n",
       "    }\n",
       "</style>\n",
       "<table border=\"1\" class=\"dataframe\">\n",
       "  <thead>\n",
       "    <tr style=\"text-align: right;\">\n",
       "      <th></th>\n",
       "      <th>PredictionIdx</th>\n",
       "      <th>DateKey</th>\n",
       "      <th>CustomerIdx</th>\n",
       "      <th>IsinIdx</th>\n",
       "      <th>BuySell</th>\n",
       "      <th>CustomerInterest</th>\n",
       "      <th>week_start</th>\n",
       "    </tr>\n",
       "  </thead>\n",
       "  <tbody>\n",
       "    <tr>\n",
       "      <th>0</th>\n",
       "      <td>a1e0d80784</td>\n",
       "      <td>2018-04-23</td>\n",
       "      <td>1856</td>\n",
       "      <td>13323</td>\n",
       "      <td>Buy</td>\n",
       "      <td>NaN</td>\n",
       "      <td>2018-04-23</td>\n",
       "    </tr>\n",
       "    <tr>\n",
       "      <th>323179</th>\n",
       "      <td>ce7a1e3f46</td>\n",
       "      <td>2018-04-23</td>\n",
       "      <td>703</td>\n",
       "      <td>24709</td>\n",
       "      <td>Sell</td>\n",
       "      <td>NaN</td>\n",
       "      <td>2018-04-23</td>\n",
       "    </tr>\n",
       "    <tr>\n",
       "      <th>323178</th>\n",
       "      <td>37363eb0b5</td>\n",
       "      <td>2018-04-23</td>\n",
       "      <td>2276</td>\n",
       "      <td>24082</td>\n",
       "      <td>Sell</td>\n",
       "      <td>NaN</td>\n",
       "      <td>2018-04-23</td>\n",
       "    </tr>\n",
       "  </tbody>\n",
       "</table>\n",
       "</div>"
      ],
      "text/plain": [
       "       PredictionIdx    DateKey  CustomerIdx  IsinIdx BuySell  \\\n",
       "0         a1e0d80784 2018-04-23         1856    13323     Buy   \n",
       "323179    ce7a1e3f46 2018-04-23          703    24709    Sell   \n",
       "323178    37363eb0b5 2018-04-23         2276    24082    Sell   \n",
       "\n",
       "        CustomerInterest week_start  \n",
       "0                    NaN 2018-04-23  \n",
       "323179               NaN 2018-04-23  \n",
       "323178               NaN 2018-04-23  "
      ]
     },
     "execution_count": 29,
     "metadata": {},
     "output_type": "execute_result"
    }
   ],
   "source": [
    "show_df(df_challenge)"
   ]
  },
  {
   "cell_type": "markdown",
   "metadata": {},
   "source": [
    "# Customer"
   ]
  },
  {
   "cell_type": "code",
   "execution_count": 30,
   "metadata": {},
   "outputs": [],
   "source": [
    "df_customer = pd.read_csv('data/Customer.csv')\n",
    "df_customer.fillna('', inplace=True)"
   ]
  },
  {
   "cell_type": "code",
   "execution_count": 31,
   "metadata": {},
   "outputs": [],
   "source": [
    "df_customer.to_csv('data/Customer2.csv', index=False)"
   ]
  },
  {
   "cell_type": "code",
   "execution_count": 32,
   "metadata": {},
   "outputs": [
    {
     "name": "stdout",
     "output_type": "stream",
     "text": [
      "Rows: 3,471 / Cols: 5\n"
     ]
    },
    {
     "data": {
      "text/html": [
       "<div>\n",
       "<style scoped>\n",
       "    .dataframe tbody tr th:only-of-type {\n",
       "        vertical-align: middle;\n",
       "    }\n",
       "\n",
       "    .dataframe tbody tr th {\n",
       "        vertical-align: top;\n",
       "    }\n",
       "\n",
       "    .dataframe thead th {\n",
       "        text-align: right;\n",
       "    }\n",
       "</style>\n",
       "<table border=\"1\" class=\"dataframe\">\n",
       "  <thead>\n",
       "    <tr style=\"text-align: right;\">\n",
       "      <th></th>\n",
       "      <th>CustomerIdx</th>\n",
       "      <th>Sector</th>\n",
       "      <th>Subsector</th>\n",
       "      <th>Region</th>\n",
       "      <th>Country</th>\n",
       "    </tr>\n",
       "  </thead>\n",
       "  <tbody>\n",
       "    <tr>\n",
       "      <th>0</th>\n",
       "      <td>2975</td>\n",
       "      <td>Banks and Intermediaries</td>\n",
       "      <td>Bank</td>\n",
       "      <td>Americas</td>\n",
       "      <td>BARBADOS</td>\n",
       "    </tr>\n",
       "    <tr>\n",
       "      <th>1</th>\n",
       "      <td>1594</td>\n",
       "      <td>Asset Managers &amp; Hedge Funds</td>\n",
       "      <td></td>\n",
       "      <td>Americas</td>\n",
       "      <td>BERMUDA</td>\n",
       "    </tr>\n",
       "    <tr>\n",
       "      <th>2</th>\n",
       "      <td>399</td>\n",
       "      <td>Corporation</td>\n",
       "      <td>Corp - Comm. &amp; Prof. Services</td>\n",
       "      <td>Americas</td>\n",
       "      <td>BERMUDA</td>\n",
       "    </tr>\n",
       "  </tbody>\n",
       "</table>\n",
       "</div>"
      ],
      "text/plain": [
       "   CustomerIdx                        Sector                      Subsector  \\\n",
       "0         2975      Banks and Intermediaries                           Bank   \n",
       "1         1594  Asset Managers & Hedge Funds                                  \n",
       "2          399                   Corporation  Corp - Comm. & Prof. Services   \n",
       "\n",
       "     Region   Country  \n",
       "0  Americas  BARBADOS  \n",
       "1  Americas   BERMUDA  \n",
       "2  Americas   BERMUDA  "
      ]
     },
     "execution_count": 32,
     "metadata": {},
     "output_type": "execute_result"
    }
   ],
   "source": [
    "show_df(df_customer)"
   ]
  },
  {
   "cell_type": "markdown",
   "metadata": {},
   "source": [
    "# Isin"
   ]
  },
  {
   "cell_type": "code",
   "execution_count": 33,
   "metadata": {},
   "outputs": [],
   "source": [
    "df_isin = pd.read_csv('data/Isin.csv')\n",
    "df_isin.IssueDateKey = pd.to_datetime(df_isin.IssueDateKey, format='%Y%m%d')\n",
    "df_isin.ActualMaturityDateKey = pd.to_datetime(df_isin.ActualMaturityDateKey, format='%Y%m%d')"
   ]
  },
  {
   "cell_type": "code",
   "execution_count": 34,
   "metadata": {},
   "outputs": [],
   "source": [
    "df_isin.to_csv('data/Isin2.csv', index=False)"
   ]
  },
  {
   "cell_type": "code",
   "execution_count": 35,
   "metadata": {},
   "outputs": [
    {
     "name": "stdout",
     "output_type": "stream",
     "text": [
      "Rows: 27,411 / Cols: 17\n"
     ]
    },
    {
     "data": {
      "text/html": [
       "<div>\n",
       "<style scoped>\n",
       "    .dataframe tbody tr th:only-of-type {\n",
       "        vertical-align: middle;\n",
       "    }\n",
       "\n",
       "    .dataframe tbody tr th {\n",
       "        vertical-align: top;\n",
       "    }\n",
       "\n",
       "    .dataframe thead th {\n",
       "        text-align: right;\n",
       "    }\n",
       "</style>\n",
       "<table border=\"1\" class=\"dataframe\">\n",
       "  <thead>\n",
       "    <tr style=\"text-align: right;\">\n",
       "      <th></th>\n",
       "      <th>IsinIdx</th>\n",
       "      <th>TickerIdx</th>\n",
       "      <th>ActualMaturityDateKey</th>\n",
       "      <th>IssueDateKey</th>\n",
       "      <th>Seniority</th>\n",
       "      <th>Currency</th>\n",
       "      <th>ActivityGroup</th>\n",
       "      <th>Region</th>\n",
       "      <th>Activity</th>\n",
       "      <th>RiskCaptain</th>\n",
       "      <th>Owner</th>\n",
       "      <th>CompositeRating</th>\n",
       "      <th>IndustrySector</th>\n",
       "      <th>IndustrySubgroup</th>\n",
       "      <th>MarketIssue</th>\n",
       "      <th>IssuedAmount</th>\n",
       "      <th>CouponType</th>\n",
       "    </tr>\n",
       "  </thead>\n",
       "  <tbody>\n",
       "    <tr>\n",
       "      <th>0</th>\n",
       "      <td>0</td>\n",
       "      <td>238</td>\n",
       "      <td>2038-12-31</td>\n",
       "      <td>2005-11-29</td>\n",
       "      <td>GOV</td>\n",
       "      <td>USD</td>\n",
       "      <td>FLOW LOCAL MARKET</td>\n",
       "      <td>AMERICAS</td>\n",
       "      <td>ARGENTINA</td>\n",
       "      <td>ARGENTINA</td>\n",
       "      <td>EMK ARGENTINA</td>\n",
       "      <td>NR</td>\n",
       "      <td>Government</td>\n",
       "      <td>Sovereign</td>\n",
       "      <td>Domestic</td>\n",
       "      <td>1.246002e+09</td>\n",
       "      <td>STEP CPN</td>\n",
       "    </tr>\n",
       "    <tr>\n",
       "      <th>1</th>\n",
       "      <td>1</td>\n",
       "      <td>238</td>\n",
       "      <td>2033-12-31</td>\n",
       "      <td>2005-11-29</td>\n",
       "      <td>GOV</td>\n",
       "      <td>USD</td>\n",
       "      <td>FLOW LOCAL MARKET</td>\n",
       "      <td>AMERICAS</td>\n",
       "      <td>ARGENTINA</td>\n",
       "      <td>ARGENTINA</td>\n",
       "      <td>EMK ARGENTINA</td>\n",
       "      <td>NR</td>\n",
       "      <td>Government</td>\n",
       "      <td>Sovereign</td>\n",
       "      <td>Domestic</td>\n",
       "      <td>4.901086e+09</td>\n",
       "      <td>FIXED</td>\n",
       "    </tr>\n",
       "    <tr>\n",
       "      <th>2</th>\n",
       "      <td>2</td>\n",
       "      <td>238</td>\n",
       "      <td>2033-12-31</td>\n",
       "      <td>2005-11-29</td>\n",
       "      <td>GOV</td>\n",
       "      <td>ARS</td>\n",
       "      <td>FLOW LOCAL MARKET</td>\n",
       "      <td>AMERICAS</td>\n",
       "      <td>ARGENTINA</td>\n",
       "      <td>ARGENTINA</td>\n",
       "      <td>EMK ARGENTINA</td>\n",
       "      <td>NR</td>\n",
       "      <td>Government</td>\n",
       "      <td>Sovereign</td>\n",
       "      <td>Domestic</td>\n",
       "      <td>1.501245e+10</td>\n",
       "      <td>FIXED</td>\n",
       "    </tr>\n",
       "  </tbody>\n",
       "</table>\n",
       "</div>"
      ],
      "text/plain": [
       "   IsinIdx  TickerIdx ActualMaturityDateKey IssueDateKey Seniority Currency  \\\n",
       "0        0        238            2038-12-31   2005-11-29       GOV      USD   \n",
       "1        1        238            2033-12-31   2005-11-29       GOV      USD   \n",
       "2        2        238            2033-12-31   2005-11-29       GOV      ARS   \n",
       "\n",
       "       ActivityGroup    Region   Activity RiskCaptain          Owner  \\\n",
       "0  FLOW LOCAL MARKET  AMERICAS  ARGENTINA   ARGENTINA  EMK ARGENTINA   \n",
       "1  FLOW LOCAL MARKET  AMERICAS  ARGENTINA   ARGENTINA  EMK ARGENTINA   \n",
       "2  FLOW LOCAL MARKET  AMERICAS  ARGENTINA   ARGENTINA  EMK ARGENTINA   \n",
       "\n",
       "  CompositeRating IndustrySector IndustrySubgroup MarketIssue  IssuedAmount  \\\n",
       "0              NR     Government        Sovereign    Domestic  1.246002e+09   \n",
       "1              NR     Government        Sovereign    Domestic  4.901086e+09   \n",
       "2              NR     Government        Sovereign    Domestic  1.501245e+10   \n",
       "\n",
       "  CouponType  \n",
       "0   STEP CPN  \n",
       "1      FIXED  \n",
       "2      FIXED  "
      ]
     },
     "execution_count": 35,
     "metadata": {},
     "output_type": "execute_result"
    }
   ],
   "source": [
    "show_df(df_isin)"
   ]
  },
  {
   "cell_type": "markdown",
   "metadata": {},
   "source": [
    "# Market"
   ]
  },
  {
   "cell_type": "code",
   "execution_count": 36,
   "metadata": {},
   "outputs": [],
   "source": [
    "df_market = pd.read_csv('data/Market.csv')\n",
    "df_market.DateKey = pd.to_datetime(df_market.DateKey, format='%Y%m%d')\n",
    "df_market['week_start'] = df_market.DateKey.dt.to_period(first_day_of_week).dt.start_time"
   ]
  },
  {
   "cell_type": "code",
   "execution_count": 37,
   "metadata": {},
   "outputs": [],
   "source": [
    "df_market.to_csv('data/Market2.csv', index=False)"
   ]
  },
  {
   "cell_type": "code",
   "execution_count": 38,
   "metadata": {},
   "outputs": [
    {
     "name": "stdout",
     "output_type": "stream",
     "text": [
      "Rows: 9,867,747 / Cols: 6\n"
     ]
    },
    {
     "data": {
      "text/html": [
       "<div>\n",
       "<style scoped>\n",
       "    .dataframe tbody tr th:only-of-type {\n",
       "        vertical-align: middle;\n",
       "    }\n",
       "\n",
       "    .dataframe tbody tr th {\n",
       "        vertical-align: top;\n",
       "    }\n",
       "\n",
       "    .dataframe thead th {\n",
       "        text-align: right;\n",
       "    }\n",
       "</style>\n",
       "<table border=\"1\" class=\"dataframe\">\n",
       "  <thead>\n",
       "    <tr style=\"text-align: right;\">\n",
       "      <th></th>\n",
       "      <th>IsinIdx</th>\n",
       "      <th>DateKey</th>\n",
       "      <th>Price</th>\n",
       "      <th>Yield</th>\n",
       "      <th>ZSpread</th>\n",
       "      <th>week_start</th>\n",
       "    </tr>\n",
       "  </thead>\n",
       "  <tbody>\n",
       "    <tr>\n",
       "      <th>0</th>\n",
       "      <td>1</td>\n",
       "      <td>2016-01-01</td>\n",
       "      <td>104.250</td>\n",
       "      <td>7.835</td>\n",
       "      <td>5.505</td>\n",
       "      <td>2015-12-28</td>\n",
       "    </tr>\n",
       "    <tr>\n",
       "      <th>1</th>\n",
       "      <td>7</td>\n",
       "      <td>2016-01-01</td>\n",
       "      <td>107.500</td>\n",
       "      <td>7.520</td>\n",
       "      <td>5.541</td>\n",
       "      <td>2015-12-28</td>\n",
       "    </tr>\n",
       "    <tr>\n",
       "      <th>2</th>\n",
       "      <td>102</td>\n",
       "      <td>2016-01-01</td>\n",
       "      <td>100.746</td>\n",
       "      <td>4.048</td>\n",
       "      <td>2.085</td>\n",
       "      <td>2015-12-28</td>\n",
       "    </tr>\n",
       "  </tbody>\n",
       "</table>\n",
       "</div>"
      ],
      "text/plain": [
       "   IsinIdx    DateKey    Price  Yield  ZSpread week_start\n",
       "0        1 2016-01-01  104.250  7.835    5.505 2015-12-28\n",
       "1        7 2016-01-01  107.500  7.520    5.541 2015-12-28\n",
       "2      102 2016-01-01  100.746  4.048    2.085 2015-12-28"
      ]
     },
     "execution_count": 38,
     "metadata": {},
     "output_type": "execute_result"
    }
   ],
   "source": [
    "show_df(df_market)"
   ]
  },
  {
   "cell_type": "markdown",
   "metadata": {},
   "source": [
    "# Market Data"
   ]
  },
  {
   "cell_type": "code",
   "execution_count": 45,
   "metadata": {},
   "outputs": [],
   "source": [
    "df_market_data = pd.read_csv('data/MarketData_Macro.csv')\n",
    "df_market_data.DateKey = pd.to_datetime(df_market_data.DateKey, format='%Y%m%d')\n",
    "df_market_data['week_start'] = df_market_data.DateKey.dt.to_period(first_day_of_week).dt.start_time\n",
    "df_market_data['next_week_start'] = df_market_data['week_start'] + pd.Timedelta(days=7)\n",
    "\n",
    "df_market_data.sort_values('DateKey', inplace=True)\n",
    "df_market_data.fillna(method='ffill', inplace=True)\n",
    "df_market_data.fillna(method='bfill', inplace=True)"
   ]
  },
  {
   "cell_type": "code",
   "execution_count": 40,
   "metadata": {},
   "outputs": [],
   "source": [
    "df_market_data.to_csv('data/MarketData_Macro2.csv', index=False)"
   ]
  },
  {
   "cell_type": "code",
   "execution_count": 46,
   "metadata": {},
   "outputs": [
    {
     "name": "stdout",
     "output_type": "stream",
     "text": [
      "Rows: 877 / Cols: 114\n"
     ]
    },
    {
     "data": {
      "text/html": [
       "<div>\n",
       "<style scoped>\n",
       "    .dataframe tbody tr th:only-of-type {\n",
       "        vertical-align: middle;\n",
       "    }\n",
       "\n",
       "    .dataframe tbody tr th {\n",
       "        vertical-align: top;\n",
       "    }\n",
       "\n",
       "    .dataframe thead th {\n",
       "        text-align: right;\n",
       "    }\n",
       "</style>\n",
       "<table border=\"1\" class=\"dataframe\">\n",
       "  <thead>\n",
       "    <tr style=\"text-align: right;\">\n",
       "      <th></th>\n",
       "      <th>DateKey</th>\n",
       "      <th>SSE</th>\n",
       "      <th>DAX</th>\n",
       "      <th>EUROSTOXX</th>\n",
       "      <th>VSTOXX</th>\n",
       "      <th>FTSE100</th>\n",
       "      <th>HSI</th>\n",
       "      <th>NIKKEI</th>\n",
       "      <th>DOWJONES_INDU</th>\n",
       "      <th>SP500</th>\n",
       "      <th>...</th>\n",
       "      <th>Swap_USD10Y</th>\n",
       "      <th>Swap_USD2Y</th>\n",
       "      <th>Swap_USD30Y</th>\n",
       "      <th>Swap_USD5Y</th>\n",
       "      <th>Swap_ZAR10Y</th>\n",
       "      <th>Swap_ZAR2Y</th>\n",
       "      <th>Swap_ZAR30Y</th>\n",
       "      <th>Swap_ZAR5Y</th>\n",
       "      <th>week_start</th>\n",
       "      <th>next_week_start</th>\n",
       "    </tr>\n",
       "  </thead>\n",
       "  <tbody>\n",
       "    <tr>\n",
       "      <th>0</th>\n",
       "      <td>2015-01-01</td>\n",
       "      <td>3350.519</td>\n",
       "      <td>9764.73</td>\n",
       "      <td>3139.44</td>\n",
       "      <td>26.2531</td>\n",
       "      <td>6547.80</td>\n",
       "      <td>23857.82</td>\n",
       "      <td>17408.71</td>\n",
       "      <td>17832.99</td>\n",
       "      <td>2058.20</td>\n",
       "      <td>...</td>\n",
       "      <td>2.295037</td>\n",
       "      <td>0.893242</td>\n",
       "      <td>2.712112</td>\n",
       "      <td>1.774452</td>\n",
       "      <td>7.963276</td>\n",
       "      <td>6.856526</td>\n",
       "      <td>8.331874</td>\n",
       "      <td>7.403867</td>\n",
       "      <td>2014-12-29</td>\n",
       "      <td>2015-01-05</td>\n",
       "    </tr>\n",
       "    <tr>\n",
       "      <th>1</th>\n",
       "      <td>2015-01-02</td>\n",
       "      <td>3350.519</td>\n",
       "      <td>9764.73</td>\n",
       "      <td>3139.44</td>\n",
       "      <td>26.2531</td>\n",
       "      <td>6547.80</td>\n",
       "      <td>23857.82</td>\n",
       "      <td>17408.71</td>\n",
       "      <td>17832.99</td>\n",
       "      <td>2058.20</td>\n",
       "      <td>...</td>\n",
       "      <td>2.236910</td>\n",
       "      <td>0.893242</td>\n",
       "      <td>2.647499</td>\n",
       "      <td>1.746344</td>\n",
       "      <td>7.940000</td>\n",
       "      <td>6.840000</td>\n",
       "      <td>8.310000</td>\n",
       "      <td>7.390000</td>\n",
       "      <td>2014-12-29</td>\n",
       "      <td>2015-01-05</td>\n",
       "    </tr>\n",
       "    <tr>\n",
       "      <th>2</th>\n",
       "      <td>2015-01-05</td>\n",
       "      <td>3350.519</td>\n",
       "      <td>9473.16</td>\n",
       "      <td>3023.14</td>\n",
       "      <td>29.6236</td>\n",
       "      <td>6417.16</td>\n",
       "      <td>23721.32</td>\n",
       "      <td>17408.71</td>\n",
       "      <td>17501.65</td>\n",
       "      <td>2020.58</td>\n",
       "      <td>...</td>\n",
       "      <td>2.148063</td>\n",
       "      <td>0.891052</td>\n",
       "      <td>2.549802</td>\n",
       "      <td>1.695687</td>\n",
       "      <td>7.840000</td>\n",
       "      <td>6.780000</td>\n",
       "      <td>8.210000</td>\n",
       "      <td>7.300000</td>\n",
       "      <td>2015-01-05</td>\n",
       "      <td>2015-01-12</td>\n",
       "    </tr>\n",
       "  </tbody>\n",
       "</table>\n",
       "<p>3 rows × 114 columns</p>\n",
       "</div>"
      ],
      "text/plain": [
       "     DateKey       SSE      DAX  EUROSTOXX   VSTOXX  FTSE100       HSI  \\\n",
       "0 2015-01-01  3350.519  9764.73    3139.44  26.2531  6547.80  23857.82   \n",
       "1 2015-01-02  3350.519  9764.73    3139.44  26.2531  6547.80  23857.82   \n",
       "2 2015-01-05  3350.519  9473.16    3023.14  29.6236  6417.16  23721.32   \n",
       "\n",
       "     NIKKEI  DOWJONES_INDU    SP500       ...         Swap_USD10Y  Swap_USD2Y  \\\n",
       "0  17408.71       17832.99  2058.20       ...            2.295037    0.893242   \n",
       "1  17408.71       17832.99  2058.20       ...            2.236910    0.893242   \n",
       "2  17408.71       17501.65  2020.58       ...            2.148063    0.891052   \n",
       "\n",
       "   Swap_USD30Y  Swap_USD5Y  Swap_ZAR10Y  Swap_ZAR2Y  Swap_ZAR30Y  Swap_ZAR5Y  \\\n",
       "0     2.712112    1.774452     7.963276    6.856526     8.331874    7.403867   \n",
       "1     2.647499    1.746344     7.940000    6.840000     8.310000    7.390000   \n",
       "2     2.549802    1.695687     7.840000    6.780000     8.210000    7.300000   \n",
       "\n",
       "   week_start  next_week_start  \n",
       "0  2014-12-29       2015-01-05  \n",
       "1  2014-12-29       2015-01-05  \n",
       "2  2015-01-05       2015-01-12  \n",
       "\n",
       "[3 rows x 114 columns]"
      ]
     },
     "execution_count": 46,
     "metadata": {},
     "output_type": "execute_result"
    }
   ],
   "source": [
    "show_df(df_market_data)"
   ]
  },
  {
   "cell_type": "markdown",
   "metadata": {},
   "source": [
    "## Market Data by Week"
   ]
  },
  {
   "cell_type": "code",
   "execution_count": 47,
   "metadata": {},
   "outputs": [],
   "source": [
    "indices = df_market_data.columns.drop(['DateKey', 'week_start', 'next_week_start'])"
   ]
  },
  {
   "cell_type": "code",
   "execution_count": 48,
   "metadata": {},
   "outputs": [
    {
     "data": {
      "text/plain": [
       "array([0.89030796, 0.95400159, 0.98701536, 0.99729092, 0.99896602,\n",
       "       0.99982321, 0.99993263, 0.99998793, 0.99999883, 0.99999931])"
      ]
     },
     "execution_count": 48,
     "metadata": {},
     "output_type": "execute_result"
    }
   ],
   "source": [
    "from sklearn.decomposition import PCA\n",
    "\n",
    "pca = PCA()\n",
    "reduced_market_data = pca.fit_transform(df_market_data[indices].values)\n",
    "pca.explained_variance_ratio_.cumsum()[:10]"
   ]
  },
  {
   "cell_type": "code",
   "execution_count": 71,
   "metadata": {},
   "outputs": [
    {
     "data": {
      "image/png": "[encoded data removed]",
      "text/plain": [
       "<Figure size 432x288 with 1 Axes>"
      ]
     },
     "metadata": {},
     "output_type": "display_data"
    }
   ],
   "source": [
    "import matplotlib.pyplot as plt\n",
    "%matplotlib inline\n",
    "\n",
    "fig, ax = plt.subplots()\n",
    "ax.plot(pca.explained_variance_ratio_.cumsum(), label='Explained variance ratio')\n",
    "ax.plot([0.9], color='r', label='Selected component (5): 0.9989')\n",
    "ax.legend()\n",
    "ax.grid(True)\n",
    "ax.set_title('PCA: Macro Market indices')\n",
    "ax.axvline(5, color='r');"
   ]
  },
  {
   "cell_type": "code",
   "execution_count": 44,
   "metadata": {},
   "outputs": [],
   "source": [
    "components = 5\n",
    "for i in range(components):\n",
    "    df_market_data['pca{}'.format(i)] = reduced_market_data[:,i]"
   ]
  },
  {
   "cell_type": "code",
   "execution_count": 45,
   "metadata": {},
   "outputs": [],
   "source": [
    "agg_funcs = {}\n",
    "\n",
    "def diff(x):\n",
    "    return x.iloc[-1] - x.iloc[0]\n",
    "\n",
    "for i in range(components):\n",
    "    agg_funcs['pca{}'.format(i)] = ['mean', 'min', 'max', 'std', diff, pd.Series.skew, pd.Series.kurt]"
   ]
  },
  {
   "cell_type": "code",
   "execution_count": 46,
   "metadata": {},
   "outputs": [],
   "source": [
    "df_market_data_agg = df_market_data.groupby('next_week_start').agg(agg_funcs)\n",
    "df_market_data_agg = df_market_data_agg.reset_index()\n",
    "\n",
    "df_market_data_agg.columns = ['_'.join(tup).rstrip('_') for tup in df_market_data_agg.columns.values]"
   ]
  },
  {
   "cell_type": "code",
   "execution_count": 47,
   "metadata": {},
   "outputs": [],
   "source": [
    "df_market_data_agg.to_csv('data/MarketData_Macro2_ByWeek.csv', index=False)"
   ]
  },
  {
   "cell_type": "code",
   "execution_count": 48,
   "metadata": {},
   "outputs": [
    {
     "name": "stdout",
     "output_type": "stream",
     "text": [
      "Rows: 176 / Cols: 36\n"
     ]
    },
    {
     "data": {
      "text/html": [
       "<div>\n",
       "<style scoped>\n",
       "    .dataframe tbody tr th:only-of-type {\n",
       "        vertical-align: middle;\n",
       "    }\n",
       "\n",
       "    .dataframe tbody tr th {\n",
       "        vertical-align: top;\n",
       "    }\n",
       "\n",
       "    .dataframe thead th {\n",
       "        text-align: right;\n",
       "    }\n",
       "</style>\n",
       "<table border=\"1\" class=\"dataframe\">\n",
       "  <thead>\n",
       "    <tr style=\"text-align: right;\">\n",
       "      <th></th>\n",
       "      <th>next_week_start</th>\n",
       "      <th>pca0_mean</th>\n",
       "      <th>pca0_min</th>\n",
       "      <th>pca0_max</th>\n",
       "      <th>pca0_incressing</th>\n",
       "      <th>pca0_skew</th>\n",
       "      <th>pca0_kurt</th>\n",
       "      <th>pca0_std</th>\n",
       "      <th>pca1_mean</th>\n",
       "      <th>pca1_min</th>\n",
       "      <th>...</th>\n",
       "      <th>pca3_skew</th>\n",
       "      <th>pca3_kurt</th>\n",
       "      <th>pca3_std</th>\n",
       "      <th>pca4_mean</th>\n",
       "      <th>pca4_min</th>\n",
       "      <th>pca4_max</th>\n",
       "      <th>pca4_incressing</th>\n",
       "      <th>pca4_skew</th>\n",
       "      <th>pca4_kurt</th>\n",
       "      <th>pca4_std</th>\n",
       "    </tr>\n",
       "  </thead>\n",
       "  <tbody>\n",
       "    <tr>\n",
       "      <th>0</th>\n",
       "      <td>2015-01-05</td>\n",
       "      <td>-2690.385287</td>\n",
       "      <td>-2690.387341</td>\n",
       "      <td>-2690.383233</td>\n",
       "      <td>1.0</td>\n",
       "      <td>NaN</td>\n",
       "      <td>NaN</td>\n",
       "      <td>0.002905</td>\n",
       "      <td>726.120336</td>\n",
       "      <td>726.115076</td>\n",
       "      <td>...</td>\n",
       "      <td>NaN</td>\n",
       "      <td>NaN</td>\n",
       "      <td>0.033377</td>\n",
       "      <td>69.825230</td>\n",
       "      <td>69.812698</td>\n",
       "      <td>69.837762</td>\n",
       "      <td>1.0</td>\n",
       "      <td>NaN</td>\n",
       "      <td>NaN</td>\n",
       "      <td>0.017723</td>\n",
       "    </tr>\n",
       "    <tr>\n",
       "      <th>1</th>\n",
       "      <td>2015-01-12</td>\n",
       "      <td>-3065.174223</td>\n",
       "      <td>-3495.255345</td>\n",
       "      <td>-2743.684764</td>\n",
       "      <td>1.0</td>\n",
       "      <td>-0.504131</td>\n",
       "      <td>-1.011598</td>\n",
       "      <td>306.570185</td>\n",
       "      <td>758.609708</td>\n",
       "      <td>573.267802</td>\n",
       "      <td>...</td>\n",
       "      <td>-0.189818</td>\n",
       "      <td>1.814698</td>\n",
       "      <td>135.687263</td>\n",
       "      <td>65.142103</td>\n",
       "      <td>15.409193</td>\n",
       "      <td>126.415571</td>\n",
       "      <td>0.0</td>\n",
       "      <td>0.563230</td>\n",
       "      <td>-0.204279</td>\n",
       "      <td>42.663617</td>\n",
       "    </tr>\n",
       "    <tr>\n",
       "      <th>2</th>\n",
       "      <td>2015-01-19</td>\n",
       "      <td>-2780.675358</td>\n",
       "      <td>-2977.708319</td>\n",
       "      <td>-2646.801741</td>\n",
       "      <td>0.0</td>\n",
       "      <td>-0.822696</td>\n",
       "      <td>0.461054</td>\n",
       "      <td>129.838243</td>\n",
       "      <td>1001.834527</td>\n",
       "      <td>854.975952</td>\n",
       "      <td>...</td>\n",
       "      <td>-0.695398</td>\n",
       "      <td>0.503479</td>\n",
       "      <td>175.493093</td>\n",
       "      <td>-111.333109</td>\n",
       "      <td>-152.145408</td>\n",
       "      <td>-34.928734</td>\n",
       "      <td>1.0</td>\n",
       "      <td>1.241838</td>\n",
       "      <td>0.599722</td>\n",
       "      <td>48.566690</td>\n",
       "    </tr>\n",
       "  </tbody>\n",
       "</table>\n",
       "<p>3 rows × 36 columns</p>\n",
       "</div>"
      ],
      "text/plain": [
       "  next_week_start    pca0_mean     pca0_min     pca0_max  pca0_incressing  \\\n",
       "0      2015-01-05 -2690.385287 -2690.387341 -2690.383233              1.0   \n",
       "1      2015-01-12 -3065.174223 -3495.255345 -2743.684764              1.0   \n",
       "2      2015-01-19 -2780.675358 -2977.708319 -2646.801741              0.0   \n",
       "\n",
       "   pca0_skew  pca0_kurt    pca0_std    pca1_mean    pca1_min    ...      \\\n",
       "0        NaN        NaN    0.002905   726.120336  726.115076    ...       \n",
       "1  -0.504131  -1.011598  306.570185   758.609708  573.267802    ...       \n",
       "2  -0.822696   0.461054  129.838243  1001.834527  854.975952    ...       \n",
       "\n",
       "   pca3_skew  pca3_kurt    pca3_std   pca4_mean    pca4_min    pca4_max  \\\n",
       "0        NaN        NaN    0.033377   69.825230   69.812698   69.837762   \n",
       "1  -0.189818   1.814698  135.687263   65.142103   15.409193  126.415571   \n",
       "2  -0.695398   0.503479  175.493093 -111.333109 -152.145408  -34.928734   \n",
       "\n",
       "   pca4_incressing  pca4_skew  pca4_kurt   pca4_std  \n",
       "0              1.0        NaN        NaN   0.017723  \n",
       "1              0.0   0.563230  -0.204279  42.663617  \n",
       "2              1.0   1.241838   0.599722  48.566690  \n",
       "\n",
       "[3 rows x 36 columns]"
      ]
     },
     "execution_count": 48,
     "metadata": {},
     "output_type": "execute_result"
    }
   ],
   "source": [
    "show_df(df_market_data_agg)"
   ]
  },
  {
   "cell_type": "markdown",
   "metadata": {},
   "source": [
    "# Create dataframe"
   ]
  },
  {
   "cell_type": "code",
   "execution_count": 49,
   "metadata": {},
   "outputs": [],
   "source": [
    "del df_trade"
   ]
  },
  {
   "cell_type": "code",
   "execution_count": 50,
   "metadata": {},
   "outputs": [],
   "source": [
    "# df_trade_agg = pd.read_csv('data/Trade2_ByWeek.csv', parse_dates=['week_start'])\n",
    "# df_trade_agg = df_trade_agg[df_trade_agg.week_start.dt.year >= 2018]"
   ]
  },
  {
   "cell_type": "code",
   "execution_count": 51,
   "metadata": {},
   "outputs": [],
   "source": [
    "# df_customer = pd.read_csv('data/Customer2.csv')\n",
    "# df_isin = pd.read_csv('data/Isin2.csv', parse_dates=['week_start'])\n",
    "# df_market_data_agg = pd.read_csv('data/MarketData_Macro2_ByWeek.csv', parse_dates=['week_start'])\n",
    "# df_trade_hist = pd.read_csv('data/Trade2_AggHist.csv', parse_dates=['week_start'])\n",
    "# df_trade_hist2 = pd.read_csv('data/Trade2_AggHistByCustomer.csv', parse_dates=['week_start'])\n",
    "# df_trade_hist3 = pd.read_csv('data/Trade2_AggHistByIsin.csv', parse_dates=['week_start'])"
   ]
  },
  {
   "cell_type": "code",
   "execution_count": 52,
   "metadata": {},
   "outputs": [
    {
     "data": {
      "text/plain": [
       "(1477183, 92)"
      ]
     },
     "execution_count": 52,
     "metadata": {},
     "output_type": "execute_result"
    }
   ],
   "source": [
    "df_trade_final = pd.merge(df_trade_agg, df_customer, 'left', on='CustomerIdx')\n",
    "df_trade_final = pd.merge(df_trade_final, df_isin, 'left', on='IsinIdx')\n",
    "df_trade_final = pd.merge(df_trade_final, df_market_data_agg, 'left',\n",
    "                          left_on='week_start', right_on='next_week_start')\n",
    "df_trade_final = pd.merge(df_trade_final, df_trade_hist, 'left',\n",
    "                          left_on=['CustomerIdx', 'IsinIdx', 'week_start'],\n",
    "                          right_on=['CustomerIdx', 'IsinIdx', 'next_week_start'],\n",
    "                          suffixes=('', '_tmp'))\n",
    "df_trade_final.drop(columns=['week_start_tmp', 'next_week_start_tmp'], inplace=True) \n",
    "df_trade_final = pd.merge(df_trade_final, df_trade_hist2, 'left',\n",
    "                          left_on=['CustomerIdx', 'week_start'],\n",
    "                          right_on=['CustomerIdx', 'next_week_start'],\n",
    "                          suffixes=('', '_ByCustomer'))\n",
    "df_trade_final.drop(columns=['week_start_ByCustomer', 'next_week_start_ByCustomer'], inplace=True)\n",
    "df_trade_final = pd.merge(df_trade_final, df_trade_hist3, 'left',\n",
    "                          left_on=['IsinIdx', 'week_start'],\n",
    "                          right_on=['IsinIdx', 'next_week_start'],\n",
    "                          suffixes=('', '_ByIsin'))\n",
    "df_trade_final.drop(columns=['week_start_ByIsin', 'next_week_start_ByIsin'], inplace=True)\n",
    "\n",
    "df_trade_final.shape"
   ]
  },
  {
   "cell_type": "code",
   "execution_count": 53,
   "metadata": {},
   "outputs": [],
   "source": [
    "#df_challenge = pd.read_csv('data/Challenge2.csv')"
   ]
  },
  {
   "cell_type": "code",
   "execution_count": 54,
   "metadata": {},
   "outputs": [
    {
     "data": {
      "text/plain": [
       "(484758, 94)"
      ]
     },
     "execution_count": 54,
     "metadata": {},
     "output_type": "execute_result"
    }
   ],
   "source": [
    "df_challenge_final = pd.merge(df_challenge, df_customer, 'left', on='CustomerIdx')\n",
    "df_challenge_final = pd.merge(df_challenge_final, df_isin, 'left', on='IsinIdx')\n",
    "df_challenge_final = pd.merge(df_challenge_final, df_market_data_agg, 'left',\n",
    "                              left_on='week_start', right_on='next_week_start')\n",
    "df_challenge_final = pd.merge(df_challenge_final, df_trade_hist, 'left',\n",
    "                          left_on=['CustomerIdx', 'IsinIdx', 'week_start'],\n",
    "                          right_on=['CustomerIdx', 'IsinIdx', 'next_week_start'],\n",
    "                          suffixes=('', '_tmp'))\n",
    "df_challenge_final.drop(columns=['week_start_tmp', 'next_week_start_tmp'], inplace=True) \n",
    "df_challenge_final = pd.merge(df_challenge_final, df_trade_hist2, 'left',\n",
    "                          left_on=['CustomerIdx', 'week_start'],\n",
    "                          right_on=['CustomerIdx', 'next_week_start'],\n",
    "                          suffixes=('', '_ByCustomer'))\n",
    "df_challenge_final.drop(columns=['week_start_ByCustomer', 'next_week_start_ByCustomer'], inplace=True)\n",
    "df_challenge_final = pd.merge(df_challenge_final, df_trade_hist3, 'left',\n",
    "                          left_on=['IsinIdx', 'week_start'],\n",
    "                          right_on=['IsinIdx', 'next_week_start'],\n",
    "                          suffixes=('', '_ByIsin'))\n",
    "df_challenge_final.drop(columns=['week_start_ByIsin', 'next_week_start_ByIsin'], inplace=True)\n",
    "\n",
    "df_challenge_final.shape"
   ]
  },
  {
   "cell_type": "markdown",
   "metadata": {},
   "source": [
    "### Release Memory"
   ]
  },
  {
   "cell_type": "code",
   "execution_count": 55,
   "metadata": {},
   "outputs": [],
   "source": [
    "del df_trade_agg\n",
    "del df_challenge\n",
    "del df_customer\n",
    "del df_isin\n",
    "del df_market\n",
    "del df_market_data\n",
    "del df_market_data_agg"
   ]
  },
  {
   "cell_type": "markdown",
   "metadata": {},
   "source": [
    "### Features"
   ]
  },
  {
   "cell_type": "code",
   "execution_count": 56,
   "metadata": {},
   "outputs": [],
   "source": [
    "df_trade_final['all_period'] = (df_trade_final.ActualMaturityDateKey - df_trade_final.IssueDateKey).dt.days\n",
    "df_trade_final['past_period'] = (df_trade_final.week_start - df_trade_final.IssueDateKey).dt.days\n",
    "df_trade_final['remaining_period'] = (df_trade_final.ActualMaturityDateKey - df_trade_final.week_start).dt.days"
   ]
  },
  {
   "cell_type": "code",
   "execution_count": 57,
   "metadata": {},
   "outputs": [],
   "source": [
    "df_challenge_final['all_period'] = (df_challenge_final.ActualMaturityDateKey - df_challenge_final.IssueDateKey).dt.days\n",
    "df_challenge_final['past_period'] = (df_challenge_final.DateKey - df_challenge_final.IssueDateKey).dt.days\n",
    "df_challenge_final['remaining_period'] = (df_challenge_final.ActualMaturityDateKey - df_challenge_final.DateKey).dt.days"
   ]
  },
  {
   "cell_type": "code",
   "execution_count": 58,
   "metadata": {},
   "outputs": [
    {
     "name": "stdout",
     "output_type": "stream",
     "text": [
      "Duração: 0:08:11.192244\n"
     ]
    }
   ],
   "source": [
    "print('Duração:', datetime.now() - start)"
   ]
  },
  {
   "cell_type": "code",
   "execution_count": 59,
   "metadata": {},
   "outputs": [],
   "source": [
    "df_challenge_final.to_pickle('df_challenge_final.pkl')"
   ]
  },
  {
   "cell_type": "code",
   "execution_count": 60,
   "metadata": {},
   "outputs": [],
   "source": [
    "df_trade_final.to_pickle('df_trade_final.pkl')"
   ]
  },
  {
   "cell_type": "markdown",
   "metadata": {},
   "source": [
    "### Treat NaN"
   ]
  },
  {
   "cell_type": "code",
   "execution_count": 61,
   "metadata": {},
   "outputs": [],
   "source": [
    "for column in df_trade_final.columns:\n",
    "    if df_trade_final[column].dtype == np.object:\n",
    "        df_trade_final[column].fillna('', inplace=True)\n",
    "    else:\n",
    "        df_trade_final[column].fillna(0, inplace=True)\n",
    "        \n",
    "for column in df_challenge_final.columns:\n",
    "    if df_challenge_final[column].dtype == np.object:\n",
    "        df_challenge_final[column].fillna('', inplace=True)\n",
    "    else:\n",
    "        df_challenge_final[column].fillna(0, inplace=True)"
   ]
  },
  {
   "cell_type": "markdown",
   "metadata": {},
   "source": [
    "### Treat Categorical"
   ]
  },
  {
   "cell_type": "code",
   "execution_count": 63,
   "metadata": {},
   "outputs": [
    {
     "name": "stdout",
     "output_type": "stream",
     "text": [
      "CPU times: user 31.1 s, sys: 1.41 s, total: 32.5 s\n",
      "Wall time: 26 s\n"
     ]
    }
   ],
   "source": [
    "%%time\n",
    "from sklearn.preprocessing import LabelEncoder\n",
    "\n",
    "\n",
    "def encode_string_columns(df_train, df_test):\n",
    "    encoded_columns = []\n",
    "    for column in df_test.columns.drop('PredictionIdx'):\n",
    "        try:\n",
    "            if df_test[column].dtype == np.object:\n",
    "                train_values = list(df_train[column].unique())\n",
    "                test_values = list(df_test[column].unique())\n",
    "                encoder = LabelEncoder()\n",
    "                encoder.fit(np.unique(train_values + test_values))\n",
    "                df_train[column] = encoder.transform(df_train[column].values)\n",
    "                df_test[column] = encoder.transform(df_test[column].values)\n",
    "                encoded_columns.append(column)\n",
    "        except TypeError as ex:\n",
    "            print(column)\n",
    "            raise ex\n",
    "    return encoded_columns\n",
    "\n",
    "encode_string_columns(df_trade_final, df_challenge_final)"
   ]
  },
  {
   "cell_type": "code",
   "execution_count": 64,
   "metadata": {},
   "outputs": [
    {
     "name": "stdout",
     "output_type": "stream",
     "text": [
      "Rows: 1,477,183 / Cols: 95\n"
     ]
    },
    {
     "data": {
      "text/html": [
       "<div>\n",
       "<style scoped>\n",
       "    .dataframe tbody tr th:only-of-type {\n",
       "        vertical-align: middle;\n",
       "    }\n",
       "\n",
       "    .dataframe tbody tr th {\n",
       "        vertical-align: top;\n",
       "    }\n",
       "\n",
       "    .dataframe thead th {\n",
       "        text-align: right;\n",
       "    }\n",
       "</style>\n",
       "<table border=\"1\" class=\"dataframe\">\n",
       "  <thead>\n",
       "    <tr style=\"text-align: right;\">\n",
       "      <th></th>\n",
       "      <th>week_start</th>\n",
       "      <th>CustomerIdx</th>\n",
       "      <th>IsinIdx</th>\n",
       "      <th>BuySell</th>\n",
       "      <th>CustomerInterest</th>\n",
       "      <th>Sector</th>\n",
       "      <th>Subsector</th>\n",
       "      <th>Region_x</th>\n",
       "      <th>Country</th>\n",
       "      <th>TickerIdx</th>\n",
       "      <th>...</th>\n",
       "      <th>TradeStatus_NotTraded.sum_ByIsin</th>\n",
       "      <th>TradeStatus_Unknown.sum_ByIsin</th>\n",
       "      <th>ExecutedBuy.sum_ByIsin</th>\n",
       "      <th>ExecutedSell.sum_ByIsin</th>\n",
       "      <th>ExecutedBalance.sum_ByIsin</th>\n",
       "      <th>CustomerIdx.count</th>\n",
       "      <th>CustomerIdx.nunique</th>\n",
       "      <th>all_period</th>\n",
       "      <th>past_period</th>\n",
       "      <th>remaining_period</th>\n",
       "    </tr>\n",
       "  </thead>\n",
       "  <tbody>\n",
       "    <tr>\n",
       "      <th>0</th>\n",
       "      <td>2018-01-01</td>\n",
       "      <td>2</td>\n",
       "      <td>17040</td>\n",
       "      <td>0</td>\n",
       "      <td>1.0</td>\n",
       "      <td>0</td>\n",
       "      <td>21</td>\n",
       "      <td>0</td>\n",
       "      <td>10</td>\n",
       "      <td>238</td>\n",
       "      <td>...</td>\n",
       "      <td>62.0</td>\n",
       "      <td>301.0</td>\n",
       "      <td>272.0</td>\n",
       "      <td>128.0</td>\n",
       "      <td>144.0</td>\n",
       "      <td>696.0</td>\n",
       "      <td>548.0</td>\n",
       "      <td>36524</td>\n",
       "      <td>187</td>\n",
       "      <td>36337</td>\n",
       "    </tr>\n",
       "    <tr>\n",
       "      <th>1</th>\n",
       "      <td>2018-01-01</td>\n",
       "      <td>2</td>\n",
       "      <td>17040</td>\n",
       "      <td>1</td>\n",
       "      <td>0.0</td>\n",
       "      <td>0</td>\n",
       "      <td>21</td>\n",
       "      <td>0</td>\n",
       "      <td>10</td>\n",
       "      <td>238</td>\n",
       "      <td>...</td>\n",
       "      <td>62.0</td>\n",
       "      <td>301.0</td>\n",
       "      <td>272.0</td>\n",
       "      <td>128.0</td>\n",
       "      <td>144.0</td>\n",
       "      <td>696.0</td>\n",
       "      <td>548.0</td>\n",
       "      <td>36524</td>\n",
       "      <td>187</td>\n",
       "      <td>36337</td>\n",
       "    </tr>\n",
       "    <tr>\n",
       "      <th>2</th>\n",
       "      <td>2018-01-01</td>\n",
       "      <td>9</td>\n",
       "      <td>3428</td>\n",
       "      <td>0</td>\n",
       "      <td>1.0</td>\n",
       "      <td>1</td>\n",
       "      <td>23</td>\n",
       "      <td>1</td>\n",
       "      <td>75</td>\n",
       "      <td>1116</td>\n",
       "      <td>...</td>\n",
       "      <td>44.0</td>\n",
       "      <td>25.0</td>\n",
       "      <td>83.0</td>\n",
       "      <td>116.0</td>\n",
       "      <td>-33.0</td>\n",
       "      <td>437.0</td>\n",
       "      <td>382.0</td>\n",
       "      <td>7305</td>\n",
       "      <td>445</td>\n",
       "      <td>6860</td>\n",
       "    </tr>\n",
       "  </tbody>\n",
       "</table>\n",
       "<p>3 rows × 95 columns</p>\n",
       "</div>"
      ],
      "text/plain": [
       "  week_start  CustomerIdx  IsinIdx  BuySell  CustomerInterest  Sector  \\\n",
       "0 2018-01-01            2    17040        0               1.0       0   \n",
       "1 2018-01-01            2    17040        1               0.0       0   \n",
       "2 2018-01-01            9     3428        0               1.0       1   \n",
       "\n",
       "   Subsector  Region_x  Country  TickerIdx        ...         \\\n",
       "0         21         0       10        238        ...          \n",
       "1         21         0       10        238        ...          \n",
       "2         23         1       75       1116        ...          \n",
       "\n",
       "  TradeStatus_NotTraded.sum_ByIsin TradeStatus_Unknown.sum_ByIsin  \\\n",
       "0                             62.0                          301.0   \n",
       "1                             62.0                          301.0   \n",
       "2                             44.0                           25.0   \n",
       "\n",
       "   ExecutedBuy.sum_ByIsin  ExecutedSell.sum_ByIsin  \\\n",
       "0                   272.0                    128.0   \n",
       "1                   272.0                    128.0   \n",
       "2                    83.0                    116.0   \n",
       "\n",
       "   ExecutedBalance.sum_ByIsin  CustomerIdx.count  CustomerIdx.nunique  \\\n",
       "0                       144.0              696.0                548.0   \n",
       "1                       144.0              696.0                548.0   \n",
       "2                       -33.0              437.0                382.0   \n",
       "\n",
       "   all_period  past_period  remaining_period  \n",
       "0       36524          187             36337  \n",
       "1       36524          187             36337  \n",
       "2        7305          445              6860  \n",
       "\n",
       "[3 rows x 95 columns]"
      ]
     },
     "execution_count": 64,
     "metadata": {},
     "output_type": "execute_result"
    }
   ],
   "source": [
    "show_df(df_trade_final)"
   ]
  },
  {
   "cell_type": "code",
   "execution_count": 65,
   "metadata": {},
   "outputs": [
    {
     "name": "stdout",
     "output_type": "stream",
     "text": [
      "Rows: 484,758 / Cols: 97\n"
     ]
    },
    {
     "data": {
      "text/html": [
       "<div>\n",
       "<style scoped>\n",
       "    .dataframe tbody tr th:only-of-type {\n",
       "        vertical-align: middle;\n",
       "    }\n",
       "\n",
       "    .dataframe tbody tr th {\n",
       "        vertical-align: top;\n",
       "    }\n",
       "\n",
       "    .dataframe thead th {\n",
       "        text-align: right;\n",
       "    }\n",
       "</style>\n",
       "<table border=\"1\" class=\"dataframe\">\n",
       "  <thead>\n",
       "    <tr style=\"text-align: right;\">\n",
       "      <th></th>\n",
       "      <th>PredictionIdx</th>\n",
       "      <th>DateKey</th>\n",
       "      <th>CustomerIdx</th>\n",
       "      <th>IsinIdx</th>\n",
       "      <th>BuySell</th>\n",
       "      <th>CustomerInterest</th>\n",
       "      <th>week_start</th>\n",
       "      <th>Sector</th>\n",
       "      <th>Subsector</th>\n",
       "      <th>Region_x</th>\n",
       "      <th>...</th>\n",
       "      <th>TradeStatus_NotTraded.sum_ByIsin</th>\n",
       "      <th>TradeStatus_Unknown.sum_ByIsin</th>\n",
       "      <th>ExecutedBuy.sum_ByIsin</th>\n",
       "      <th>ExecutedSell.sum_ByIsin</th>\n",
       "      <th>ExecutedBalance.sum_ByIsin</th>\n",
       "      <th>CustomerIdx.count</th>\n",
       "      <th>CustomerIdx.nunique</th>\n",
       "      <th>all_period</th>\n",
       "      <th>past_period</th>\n",
       "      <th>remaining_period</th>\n",
       "    </tr>\n",
       "  </thead>\n",
       "  <tbody>\n",
       "    <tr>\n",
       "      <th>0</th>\n",
       "      <td>a1e0d80784</td>\n",
       "      <td>2018-04-23</td>\n",
       "      <td>1856</td>\n",
       "      <td>13323</td>\n",
       "      <td>0</td>\n",
       "      <td>0.0</td>\n",
       "      <td>2018-04-23</td>\n",
       "      <td>0</td>\n",
       "      <td>22</td>\n",
       "      <td>0</td>\n",
       "      <td>...</td>\n",
       "      <td>5.0</td>\n",
       "      <td>111.0</td>\n",
       "      <td>50.0</td>\n",
       "      <td>66.0</td>\n",
       "      <td>-16.0</td>\n",
       "      <td>381.0</td>\n",
       "      <td>327.0</td>\n",
       "      <td>2923</td>\n",
       "      <td>1866</td>\n",
       "      <td>1057</td>\n",
       "    </tr>\n",
       "    <tr>\n",
       "      <th>1</th>\n",
       "      <td>ce7a1e3f46</td>\n",
       "      <td>2018-04-23</td>\n",
       "      <td>703</td>\n",
       "      <td>24709</td>\n",
       "      <td>1</td>\n",
       "      <td>0.0</td>\n",
       "      <td>2018-04-23</td>\n",
       "      <td>2</td>\n",
       "      <td>3</td>\n",
       "      <td>2</td>\n",
       "      <td>...</td>\n",
       "      <td>29.0</td>\n",
       "      <td>29.0</td>\n",
       "      <td>72.0</td>\n",
       "      <td>57.0</td>\n",
       "      <td>15.0</td>\n",
       "      <td>573.0</td>\n",
       "      <td>541.0</td>\n",
       "      <td>2659</td>\n",
       "      <td>696</td>\n",
       "      <td>1963</td>\n",
       "    </tr>\n",
       "    <tr>\n",
       "      <th>2</th>\n",
       "      <td>37363eb0b5</td>\n",
       "      <td>2018-04-23</td>\n",
       "      <td>2276</td>\n",
       "      <td>24082</td>\n",
       "      <td>1</td>\n",
       "      <td>0.0</td>\n",
       "      <td>2018-04-23</td>\n",
       "      <td>2</td>\n",
       "      <td>3</td>\n",
       "      <td>2</td>\n",
       "      <td>...</td>\n",
       "      <td>11.0</td>\n",
       "      <td>28.0</td>\n",
       "      <td>48.0</td>\n",
       "      <td>45.0</td>\n",
       "      <td>3.0</td>\n",
       "      <td>431.0</td>\n",
       "      <td>412.0</td>\n",
       "      <td>2922</td>\n",
       "      <td>899</td>\n",
       "      <td>2023</td>\n",
       "    </tr>\n",
       "  </tbody>\n",
       "</table>\n",
       "<p>3 rows × 97 columns</p>\n",
       "</div>"
      ],
      "text/plain": [
       "  PredictionIdx    DateKey  CustomerIdx  IsinIdx  BuySell  CustomerInterest  \\\n",
       "0    a1e0d80784 2018-04-23         1856    13323        0               0.0   \n",
       "1    ce7a1e3f46 2018-04-23          703    24709        1               0.0   \n",
       "2    37363eb0b5 2018-04-23         2276    24082        1               0.0   \n",
       "\n",
       "  week_start  Sector  Subsector  Region_x        ...         \\\n",
       "0 2018-04-23       0         22         0        ...          \n",
       "1 2018-04-23       2          3         2        ...          \n",
       "2 2018-04-23       2          3         2        ...          \n",
       "\n",
       "   TradeStatus_NotTraded.sum_ByIsin  TradeStatus_Unknown.sum_ByIsin  \\\n",
       "0                               5.0                           111.0   \n",
       "1                              29.0                            29.0   \n",
       "2                              11.0                            28.0   \n",
       "\n",
       "  ExecutedBuy.sum_ByIsin ExecutedSell.sum_ByIsin  ExecutedBalance.sum_ByIsin  \\\n",
       "0                   50.0                    66.0                       -16.0   \n",
       "1                   72.0                    57.0                        15.0   \n",
       "2                   48.0                    45.0                         3.0   \n",
       "\n",
       "   CustomerIdx.count  CustomerIdx.nunique  all_period  past_period  \\\n",
       "0              381.0                327.0        2923         1866   \n",
       "1              573.0                541.0        2659          696   \n",
       "2              431.0                412.0        2922          899   \n",
       "\n",
       "   remaining_period  \n",
       "0              1057  \n",
       "1              1963  \n",
       "2              2023  \n",
       "\n",
       "[3 rows x 97 columns]"
      ]
     },
     "execution_count": 65,
     "metadata": {},
     "output_type": "execute_result"
    }
   ],
   "source": [
    "show_df(df_challenge_final)"
   ]
  },
  {
   "cell_type": "markdown",
   "metadata": {},
   "source": [
    "### Save all"
   ]
  },
  {
   "cell_type": "code",
   "execution_count": 66,
   "metadata": {},
   "outputs": [],
   "source": [
    "df_challenge_final.to_pickle('df_challenge_final.pkl')\n",
    "del df_challenge_final"
   ]
  },
  {
   "cell_type": "code",
   "execution_count": 67,
   "metadata": {},
   "outputs": [],
   "source": [
    "df_trade_final.to_pickle('df_trade_final.pkl')\n",
    "del df_trade_final"
   ]
  },
  {
   "cell_type": "code",
   "execution_count": 68,
   "metadata": {},
   "outputs": [
    {
     "name": "stdout",
     "output_type": "stream",
     "text": [
      "Duração: 0:08:56.182255\n"
     ]
    }
   ],
   "source": [
    "print('Duração:', datetime.now() - start)"
   ]
  }
 ],
 "metadata": {
  "kernelspec": {
   "display_name": "Python 3",
   "language": "python",
   "name": "python3"
  },
  "language_info": {
   "codemirror_mode": {
    "name": "ipython",
    "version": 3
   },
   "file_extension": ".py",
   "mimetype": "text/x-python",
   "name": "python",
   "nbconvert_exporter": "python",
   "pygments_lexer": "ipython3",
   "version": "3.6.5"
  }
 },
 "nbformat": 4,
 "nbformat_minor": 2
}
