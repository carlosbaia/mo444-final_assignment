{
 "cells": [
  {
   "cell_type": "code",
   "execution_count": 1,
   "metadata": {},
   "outputs": [],
   "source": [
    "import numpy as np\n",
    "import pandas as pd\n",
    "import matplotlib.pyplot as plt"
   ]
  },
  {
   "cell_type": "code",
   "execution_count": 2,
   "metadata": {},
   "outputs": [],
   "source": [
    "path = './cat_boost/'\n",
    "filePattern = 'cat_boost'\n",
    "nFiles = 15\n",
    "preds = []"
   ]
  },
  {
   "cell_type": "code",
   "execution_count": 3,
   "metadata": {},
   "outputs": [],
   "source": [
    "for i in range(nFiles):\n",
    "    file = pd.read_csv(path + filePattern + str(i) + '.csv')\n",
    "    preds.append(file['CustomerInterest'].values)"
   ]
  },
  {
   "cell_type": "code",
   "execution_count": 14,
   "metadata": {},
   "outputs": [],
   "source": [
    "power = 0.5\n",
    "\n",
    "power_preds = np.power(preds, power)\n",
    "mean_pow_pred = np.sum(power_preds, axis=0) / nFiles"
   ]
  },
  {
   "cell_type": "code",
   "execution_count": 15,
   "metadata": {},
   "outputs": [
    {
     "data": {
      "image/png": "[encoded data removed]",
      "text/plain": [
       "<matplotlib.figure.Figure at 0x7f241a5aa908>"
      ]
     },
     "metadata": {},
     "output_type": "display_data"
    }
   ],
   "source": [
    "num_bins = 100\n",
    "n, bins, patches = plt.hist(mean_pow_pred, num_bins, normed=1, facecolor='green', alpha=0.5)\n",
    "plt.xlabel('Probability')\n",
    "plt.ylabel('N predicts')\n",
    "plt.ylim([0,5])\n",
    "plt.xlim([0,1])\n",
    "plt.show()"
   ]
  },
  {
   "cell_type": "code",
   "execution_count": 7,
   "metadata": {},
   "outputs": [],
   "source": [
    "sub_file = pd.read_csv(path + 'sample_submission.csv')\n",
    "sub_file['CustomerInterest'] = mean_pow_pred\n",
    "sub_file.to_csv(path + filePattern + str(nFiles) + '_pow_' + str(power) + '.csv', index=False)"
   ]
  }
 ],
 "metadata": {
  "kernelspec": {
   "display_name": "Python 3",
   "language": "python",
   "name": "python3"
  },
  "language_info": {
   "codemirror_mode": {
    "name": "ipython",
    "version": 3
   },
   "file_extension": ".py",
   "mimetype": "text/x-python",
   "name": "python",
   "nbconvert_exporter": "python",
   "pygments_lexer": "ipython3",
   "version": "3.6.4"
  }
 },
 "nbformat": 4,
 "nbformat_minor": 2
}
